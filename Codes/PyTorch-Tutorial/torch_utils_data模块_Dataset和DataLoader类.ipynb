{
  "nbformat": 4,
  "nbformat_minor": 0,
  "metadata": {
    "colab": {
      "name": "torch.utils.data模块-Dataset和DataLoader类.ipynb",
      "provenance": [],
      "collapsed_sections": [],
      "authorship_tag": "ABX9TyNXTETGoZFyzq1XQTzmN/wU",
      "include_colab_link": true
    },
    "kernelspec": {
      "name": "python3",
      "display_name": "Python 3"
    },
    "language_info": {
      "name": "python"
    }
  },
  "cells": [
    {
      "cell_type": "markdown",
      "metadata": {
        "id": "view-in-github",
        "colab_type": "text"
      },
      "source": [
        "<a href=\"https://colab.research.google.com/github/veager/StudyNotes/blob/new/Codes/PyTorch-Tutorial/torch_utils_data%E6%A8%A1%E5%9D%97_Dataset%E5%92%8CDataLoader%E7%B1%BB.ipynb\" target=\"_parent\"><img src=\"https://colab.research.google.com/assets/colab-badge.svg\" alt=\"Open In Colab\"/></a>"
      ]
    },
    {
      "cell_type": "markdown",
      "source": [
        "`PyTorch` 库中 `torch.utils.data` 模块\n",
        "\n",
        "- `Dataset` 类\n",
        "\n",
        "- `DataLoader` \n",
        "\n",
        "博客链接，[地址](https://www.cnblogs.com/veager/articles/16297540.html)"
      ],
      "metadata": {
        "id": "G0He4tUmN32I"
      }
    },
    {
      "cell_type": "markdown",
      "source": [
        "# 0. 加载 iris 数据"
      ],
      "metadata": {
        "id": "4itGtAEyOTVE"
      }
    },
    {
      "cell_type": "code",
      "execution_count": 23,
      "metadata": {
        "colab": {
          "base_uri": "https://localhost:8080/"
        },
        "id": "2doyVYyk7ltb",
        "outputId": "0c19cd11-b241-4da5-9b00-8aad3a485ae2"
      },
      "outputs": [
        {
          "output_type": "stream",
          "name": "stdout",
          "text": [
            "(150, 4) (150,)\n",
            "[[5.1 3.5 1.4 0.2]\n",
            " [4.9 3.  1.4 0.2]\n",
            " [4.7 3.2 1.3 0.2]\n",
            " [4.6 3.1 1.5 0.2]\n",
            " [5.  3.6 1.4 0.2]]\n",
            "[0 0 0 0 0]\n"
          ]
        }
      ],
      "source": [
        "# 加载 iris 数据\n",
        "from sklearn.datasets import load_iris\n",
        "data = load_iris()\n",
        "X, Y = data.data, data.target\n",
        "\n",
        "print(X.shape, Y.shape)\n",
        "\n",
        "print(X[:5])\n",
        "print(Y[:5])"
      ]
    },
    {
      "cell_type": "code",
      "source": [
        "import torch\n",
        "import torch.utils.data as tud\n",
        "\n",
        "X, Y = torch.tensor(X), torch.tensor(Y, dtype=torch.long)  # 数据转换为  torch.Tensor 类型"
      ],
      "metadata": {
        "id": "JyqYQG3gOk-x"
      },
      "execution_count": 24,
      "outputs": []
    },
    {
      "cell_type": "markdown",
      "source": [
        "# 1. `Dataset` 类"
      ],
      "metadata": {
        "id": "MhrwIe9yOY5R"
      }
    },
    {
      "cell_type": "markdown",
      "source": [
        "## 1.1 `TensorData()` 函数"
      ],
      "metadata": {
        "id": "b3DLJnnIOpO4"
      }
    },
    {
      "cell_type": "code",
      "source": [
        "mydataset = tud.TensorDataset(X, Y)\n",
        "\n",
        "print(mydataset)\n",
        "\n",
        "# 获取 Dataset 样本总数，len() 函数也可\n",
        "print(mydataset.__len__())  \n",
        "print(mydataset.__getitem__(0)) \n",
        "print(mydataset.__getitem__([1, 2, 3]))\n",
        "\n",
        "print(len(mydataset))\n",
        "print(mydataset[0])\n",
        "print(mydataset[[1, 2, 3]])\n",
        "print(mydataset[1: 4])"
      ],
      "metadata": {
        "colab": {
          "base_uri": "https://localhost:8080/"
        },
        "id": "L4w98eKTG66M",
        "outputId": "a267e71f-2b47-435d-9594-e8af0fadfc4d"
      },
      "execution_count": 25,
      "outputs": [
        {
          "output_type": "stream",
          "name": "stdout",
          "text": [
            "<torch.utils.data.dataset.TensorDataset object at 0x7f211fa81e90>\n",
            "150\n",
            "(tensor([5.1000, 3.5000, 1.4000, 0.2000], dtype=torch.float64), tensor(0))\n",
            "(tensor([[4.9000, 3.0000, 1.4000, 0.2000],\n",
            "        [4.7000, 3.2000, 1.3000, 0.2000],\n",
            "        [4.6000, 3.1000, 1.5000, 0.2000]], dtype=torch.float64), tensor([0, 0, 0]))\n",
            "150\n",
            "(tensor([5.1000, 3.5000, 1.4000, 0.2000], dtype=torch.float64), tensor(0))\n",
            "(tensor([[4.9000, 3.0000, 1.4000, 0.2000],\n",
            "        [4.7000, 3.2000, 1.3000, 0.2000],\n",
            "        [4.6000, 3.1000, 1.5000, 0.2000]], dtype=torch.float64), tensor([0, 0, 0]))\n",
            "(tensor([[4.9000, 3.0000, 1.4000, 0.2000],\n",
            "        [4.7000, 3.2000, 1.3000, 0.2000],\n",
            "        [4.6000, 3.1000, 1.5000, 0.2000]], dtype=torch.float64), tensor([0, 0, 0]))\n"
          ]
        }
      ]
    },
    {
      "cell_type": "markdown",
      "source": [
        "# 2. `DataLoader` 类"
      ],
      "metadata": {
        "id": "mxQpbCsvO0fA"
      }
    },
    {
      "cell_type": "code",
      "source": [
        "n_sample = len(mydataset)\n",
        "batch_size = 16\n",
        "\n",
        "dataloader = tud.DataLoader(mydataset, batch_size=batch_size)\n",
        "for i, (X_, Y_) in enumerate(dataloader):\n",
        "    # print(X_, Y_)\n",
        "    print(i, X_.size(), Y_.size())\n",
        "\n",
        "# 等价于，但无法 shuffle\n",
        "for i in range((n_sample - 1) // batch_size + 1):\n",
        "    X_, Y_ = mydataset[i * batch_size : (i + 1) * batch_size]\n",
        "    print(i, X_.size(), Y_.size())"
      ],
      "metadata": {
        "colab": {
          "base_uri": "https://localhost:8080/"
        },
        "id": "Cu0d8lXcJU_i",
        "outputId": "1a18acde-8b4f-4535-e55f-4bee9bad8823"
      },
      "execution_count": 26,
      "outputs": [
        {
          "output_type": "stream",
          "name": "stdout",
          "text": [
            "0 torch.Size([16, 4]) torch.Size([16])\n",
            "1 torch.Size([16, 4]) torch.Size([16])\n",
            "2 torch.Size([16, 4]) torch.Size([16])\n",
            "3 torch.Size([16, 4]) torch.Size([16])\n",
            "4 torch.Size([16, 4]) torch.Size([16])\n",
            "5 torch.Size([16, 4]) torch.Size([16])\n",
            "6 torch.Size([16, 4]) torch.Size([16])\n",
            "7 torch.Size([16, 4]) torch.Size([16])\n",
            "8 torch.Size([16, 4]) torch.Size([16])\n",
            "9 torch.Size([6, 4]) torch.Size([6])\n",
            "0 torch.Size([16, 4]) torch.Size([16])\n",
            "1 torch.Size([16, 4]) torch.Size([16])\n",
            "2 torch.Size([16, 4]) torch.Size([16])\n",
            "3 torch.Size([16, 4]) torch.Size([16])\n",
            "4 torch.Size([16, 4]) torch.Size([16])\n",
            "5 torch.Size([16, 4]) torch.Size([16])\n",
            "6 torch.Size([16, 4]) torch.Size([16])\n",
            "7 torch.Size([16, 4]) torch.Size([16])\n",
            "8 torch.Size([16, 4]) torch.Size([16])\n",
            "9 torch.Size([6, 4]) torch.Size([6])\n"
          ]
        }
      ]
    },
    {
      "cell_type": "markdown",
      "source": [
        "## 2.1 GPU 加速"
      ],
      "metadata": {
        "id": "gAj5AAzsPVlM"
      }
    },
    {
      "cell_type": "code",
      "source": [
        "import torch\n",
        "from torch.utils.data.dataloader import default_collate\n",
        "\n",
        "device = torch.device('cuda' if torch.cuda.is_available() else 'cpu')\n",
        "print(device)\n",
        "\n",
        "dataloader = tud.DataLoader(\n",
        "    mydataset, batch_size=16, shuffle=True,\n",
        "    collate_fn=lambda x: tuple(x_.to(device) for x_ in default_collate(x)))"
      ],
      "metadata": {
        "colab": {
          "base_uri": "https://localhost:8080/"
        },
        "id": "AwDTEhcfPXzm",
        "outputId": "6997a852-d4c8-4fa4-d9f2-0874c27e0b1f"
      },
      "execution_count": 27,
      "outputs": [
        {
          "output_type": "stream",
          "name": "stdout",
          "text": [
            "cpu\n"
          ]
        }
      ]
    },
    {
      "cell_type": "markdown",
      "source": [
        "# 3. 基本工具"
      ],
      "metadata": {
        "id": "LsKp9cD1O6FQ"
      }
    },
    {
      "cell_type": "markdown",
      "source": [
        "## 3.1 子集提取"
      ],
      "metadata": {
        "id": "HT1qT_M0O9fw"
      }
    },
    {
      "cell_type": "markdown",
      "source": [
        "### (1) `random_split()` 函数"
      ],
      "metadata": {
        "id": "l8oXab8OPAdO"
      }
    },
    {
      "cell_type": "code",
      "source": [
        "n_sample = X.size()[0]\n",
        "n_train = int(n_sample*0.7)\n",
        "n_valid = int(n_sample*0.2)\n",
        "n_test = n_sample - n_train - n_valid\n",
        "lens = [n_train, n_valid, n_test]\n",
        "print(n_sample, lens)\n",
        "\n",
        "# 随机顺序划分样本\n",
        "d1, d2, d3 = tud.random_split(mydataset, lens, generator=None)\n",
        "print(d1.__len__(), d2.__len__(), d3.__len__())\n",
        "\n",
        "# 按顺序划分样本\n",
        "d1 = tud.Subset(mydataset, range(n_train))\n",
        "d2 = tud.Subset(mydataset, range(n_train, n_train + n_valid))\n",
        "d3 = tud.Subset(mydataset, range(n_train + n_valid, n_sample))\n",
        "\n",
        "print(len(d1), len(d2), len(d3))"
      ],
      "metadata": {
        "colab": {
          "base_uri": "https://localhost:8080/"
        },
        "id": "ILS2kHeo9rml",
        "outputId": "59138b75-50a5-43dd-ef56-3acb243c1f07"
      },
      "execution_count": 28,
      "outputs": [
        {
          "output_type": "stream",
          "name": "stdout",
          "text": [
            "150 [105, 30, 15]\n",
            "105 30 15\n",
            "105 30 15\n"
          ]
        }
      ]
    },
    {
      "cell_type": "markdown",
      "source": [
        "### (2) `ConcatDataset()` 函数"
      ],
      "metadata": {
        "id": "p2-ScB1kPIRu"
      }
    },
    {
      "cell_type": "code",
      "source": [
        "# 方式一\n",
        "dc1 = d1 + d2 + d3\n",
        "\n",
        "# 方式二：与方式一等价\n",
        "dc2 = tud.ConcatDataset([d1, d2, d3])\n",
        "\n",
        "print(dc1.__len__(), dc1.__len__())"
      ],
      "metadata": {
        "colab": {
          "base_uri": "https://localhost:8080/"
        },
        "id": "Tn7VlFt1JRkW",
        "outputId": "4e556819-ff6f-40cc-806c-958adc17d1e7"
      },
      "execution_count": 29,
      "outputs": [
        {
          "output_type": "stream",
          "name": "stdout",
          "text": [
            "150 150\n"
          ]
        }
      ]
    },
    {
      "cell_type": "markdown",
      "source": [
        "### (3) `Subset()` 函数"
      ],
      "metadata": {
        "id": "Z0CwOfooPH-h"
      }
    },
    {
      "cell_type": "code",
      "source": [
        "d4 = tud.Subset(mydataset, [1,2,3,4])\n",
        "print(d4.__len__())"
      ],
      "metadata": {
        "colab": {
          "base_uri": "https://localhost:8080/"
        },
        "id": "q2cTikK0JTTw",
        "outputId": "c4620d99-5bed-4a06-ce54-773dad60c881"
      },
      "execution_count": 30,
      "outputs": [
        {
          "output_type": "stream",
          "name": "stdout",
          "text": [
            "4\n"
          ]
        }
      ]
    }
  ]
}