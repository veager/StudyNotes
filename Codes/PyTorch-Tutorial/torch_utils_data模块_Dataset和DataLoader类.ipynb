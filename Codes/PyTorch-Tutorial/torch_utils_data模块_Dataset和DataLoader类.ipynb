{
  "nbformat": 4,
  "nbformat_minor": 0,
  "metadata": {
    "colab": {
      "name": "torch.utils.data模块-Dataset和DataLoader类.ipynb",
      "provenance": [],
      "collapsed_sections": [],
      "authorship_tag": "ABX9TyOo8THcjIq0Cr75Eii+BXYH",
      "include_colab_link": true
    },
    "kernelspec": {
      "name": "python3",
      "display_name": "Python 3"
    },
    "language_info": {
      "name": "python"
    }
  },
  "cells": [
    {
      "cell_type": "markdown",
      "metadata": {
        "id": "view-in-github",
        "colab_type": "text"
      },
      "source": [
        "<a href=\"https://colab.research.google.com/github/veager/StudyNotes/blob/new/Codes/PyTorch-Tutorial/torch_utils_data%E6%A8%A1%E5%9D%97_Dataset%E5%92%8CDataLoader%E7%B1%BB.ipynb\" target=\"_parent\"><img src=\"https://colab.research.google.com/assets/colab-badge.svg\" alt=\"Open In Colab\"/></a>"
      ]
    },
    {
      "cell_type": "markdown",
      "source": [
        "`PyTorch` 库中 `torch.utils.data` 模块\n",
        "\n",
        "- `Dataset` 类\n",
        "\n",
        "- `DataLoader` \n",
        "\n",
        "博客链接，[地址](https://www.cnblogs.com/veager/articles/16297540.html)"
      ],
      "metadata": {
        "id": "G0He4tUmN32I"
      }
    },
    {
      "cell_type": "markdown",
      "source": [
        "# 0. 加载 iris 数据"
      ],
      "metadata": {
        "id": "4itGtAEyOTVE"
      }
    },
    {
      "cell_type": "code",
      "execution_count": 9,
      "metadata": {
        "colab": {
          "base_uri": "https://localhost:8080/"
        },
        "id": "2doyVYyk7ltb",
        "outputId": "e207e35d-336e-45a1-ce09-419aa29cd1e6"
      },
      "outputs": [
        {
          "output_type": "stream",
          "name": "stdout",
          "text": [
            "(150, 4) (150,)\n",
            "[[5.1 3.5 1.4 0.2]\n",
            " [4.9 3.  1.4 0.2]\n",
            " [4.7 3.2 1.3 0.2]\n",
            " [4.6 3.1 1.5 0.2]\n",
            " [5.  3.6 1.4 0.2]]\n",
            "[0 0 0 0 0]\n"
          ]
        }
      ],
      "source": [
        "# 加载 iris 数据\n",
        "from sklearn.datasets import load_iris\n",
        "data = load_iris()\n",
        "X, Y = data.data, data.target\n",
        "\n",
        "print(X.shape, Y.shape)\n",
        "\n",
        "print(X[:5])\n",
        "print(Y[:5])"
      ]
    },
    {
      "cell_type": "code",
      "source": [
        "import torch\n",
        "import torch.utils.data as tud\n",
        "\n",
        "X, Y = torch.tensor(X), torch.tensor(Y, dtype=torch.long)  # 数据转换为  torch.Tensor 类型"
      ],
      "metadata": {
        "id": "JyqYQG3gOk-x"
      },
      "execution_count": 10,
      "outputs": []
    },
    {
      "cell_type": "markdown",
      "source": [
        "# 1. `Dataset` 类"
      ],
      "metadata": {
        "id": "MhrwIe9yOY5R"
      }
    },
    {
      "cell_type": "markdown",
      "source": [
        "## 1.1 `TensorData()` 函数"
      ],
      "metadata": {
        "id": "b3DLJnnIOpO4"
      }
    },
    {
      "cell_type": "code",
      "source": [
        "mydataset = tud.TensorDataset(X, Y)\n",
        "\n",
        "print(mydataset)\n",
        "\n",
        "# 获取 Dataset 样本总数，len() 函数也可\n",
        "print(mydataset.__len__())  \n",
        "print(mydataset.__getitem__(0)) \n",
        "print(mydataset.__getitem__([1, 2, 3]))\n",
        "\n",
        "print(len(mydataset))\n",
        "print(mydataset[0])\n",
        "print(mydataset[[1, 2, 3]])\n",
        "print(mydataset[1: 4])"
      ],
      "metadata": {
        "colab": {
          "base_uri": "https://localhost:8080/"
        },
        "id": "L4w98eKTG66M",
        "outputId": "e5ae10f4-38f6-4d97-c2d9-d90a8696632f"
      },
      "execution_count": 11,
      "outputs": [
        {
          "output_type": "stream",
          "name": "stdout",
          "text": [
            "<torch.utils.data.dataset.TensorDataset object at 0x7f21d88ad090>\n",
            "150\n",
            "(tensor([5.1000, 3.5000, 1.4000, 0.2000], dtype=torch.float64), tensor(0))\n",
            "(tensor([[4.9000, 3.0000, 1.4000, 0.2000],\n",
            "        [4.7000, 3.2000, 1.3000, 0.2000],\n",
            "        [4.6000, 3.1000, 1.5000, 0.2000]], dtype=torch.float64), tensor([0, 0, 0]))\n",
            "150\n",
            "(tensor([5.1000, 3.5000, 1.4000, 0.2000], dtype=torch.float64), tensor(0))\n",
            "(tensor([[4.9000, 3.0000, 1.4000, 0.2000],\n",
            "        [4.7000, 3.2000, 1.3000, 0.2000],\n",
            "        [4.6000, 3.1000, 1.5000, 0.2000]], dtype=torch.float64), tensor([0, 0, 0]))\n",
            "(tensor([[4.9000, 3.0000, 1.4000, 0.2000],\n",
            "        [4.7000, 3.2000, 1.3000, 0.2000],\n",
            "        [4.6000, 3.1000, 1.5000, 0.2000]], dtype=torch.float64), tensor([0, 0, 0]))\n"
          ]
        }
      ]
    },
    {
      "cell_type": "markdown",
      "source": [
        "# 2. `DataLoader` 类"
      ],
      "metadata": {
        "id": "mxQpbCsvO0fA"
      }
    },
    {
      "cell_type": "code",
      "source": [
        "dataloader = tud.DataLoader(mydataset, batch_size=16)\n",
        "for i, (X_, Y_) in enumerate(dataloader):\n",
        "    # print(X_, Y_)\n",
        "    print(X_.size(), Y_.size())"
      ],
      "metadata": {
        "colab": {
          "base_uri": "https://localhost:8080/"
        },
        "id": "Cu0d8lXcJU_i",
        "outputId": "0706c871-447a-4757-ad22-aab52d53bedb"
      },
      "execution_count": 12,
      "outputs": [
        {
          "output_type": "stream",
          "name": "stdout",
          "text": [
            "torch.Size([16, 4]) torch.Size([16])\n",
            "torch.Size([16, 4]) torch.Size([16])\n",
            "torch.Size([16, 4]) torch.Size([16])\n",
            "torch.Size([16, 4]) torch.Size([16])\n",
            "torch.Size([16, 4]) torch.Size([16])\n",
            "torch.Size([16, 4]) torch.Size([16])\n",
            "torch.Size([16, 4]) torch.Size([16])\n",
            "torch.Size([16, 4]) torch.Size([16])\n",
            "torch.Size([16, 4]) torch.Size([16])\n",
            "torch.Size([6, 4]) torch.Size([6])\n"
          ]
        }
      ]
    },
    {
      "cell_type": "markdown",
      "source": [
        "## 2.1 GPU 加速"
      ],
      "metadata": {
        "id": "gAj5AAzsPVlM"
      }
    },
    {
      "cell_type": "code",
      "source": [
        "import torch\n",
        "from torch.utils.data.dataloader import default_collate\n",
        "\n",
        "device = torch.device('cuda' if torch.cuda.is_available() else 'cpu')\n",
        "print(device)\n",
        "\n",
        "dataloader = tud.DataLoader(\n",
        "    mydataset, batch_size=16, shuffle=True,\n",
        "    collate_fn=lambda x: tuple(x_.to(device) for x_ in default_collate(x)))"
      ],
      "metadata": {
        "colab": {
          "base_uri": "https://localhost:8080/"
        },
        "id": "AwDTEhcfPXzm",
        "outputId": "db9ce3f7-33e5-44fa-c0af-9b0fc1f423f1"
      },
      "execution_count": 13,
      "outputs": [
        {
          "output_type": "stream",
          "name": "stdout",
          "text": [
            "cpu\n"
          ]
        }
      ]
    },
    {
      "cell_type": "markdown",
      "source": [
        "# 3. 基本工具"
      ],
      "metadata": {
        "id": "LsKp9cD1O6FQ"
      }
    },
    {
      "cell_type": "markdown",
      "source": [
        "## 3.1 子集提取"
      ],
      "metadata": {
        "id": "HT1qT_M0O9fw"
      }
    },
    {
      "cell_type": "markdown",
      "source": [
        "### (1) `random_split()` 函数"
      ],
      "metadata": {
        "id": "l8oXab8OPAdO"
      }
    },
    {
      "cell_type": "code",
      "source": [
        "n_sample = X.size()[0]\n",
        "n_train = int(n_sample*0.7)\n",
        "n_valid = int(n_sample*0.2)\n",
        "n_test = n_sample - n_train - n_valid\n",
        "lens = [n_train, n_valid, n_test]\n",
        "print(n_sample, lens)\n",
        "\n",
        "# 随机顺序划分样本\n",
        "d1, d2, d3 = tud.random_split(mydataset, lens, generator=None)\n",
        "print(d1.__len__(), d2.__len__(), d3.__len__())\n",
        "\n",
        "# 按顺序划分样本\n",
        "d1 = tud.Subset(mydataset, range(n_train))\n",
        "d2 = tud.Subset(mydataset, range(n_train, n_train + n_valid))\n",
        "d3 = tud.Subset(mydataset, range(n_train + n_valid, n_sample))\n",
        "\n",
        "print(len(d1), len(d2), len(d3))"
      ],
      "metadata": {
        "colab": {
          "base_uri": "https://localhost:8080/"
        },
        "id": "ILS2kHeo9rml",
        "outputId": "75b19536-071d-426f-e8ae-125bf260f60c"
      },
      "execution_count": 14,
      "outputs": [
        {
          "output_type": "stream",
          "name": "stdout",
          "text": [
            "150 [105, 30, 15]\n",
            "105 30 15\n",
            "105 30 15\n"
          ]
        }
      ]
    },
    {
      "cell_type": "markdown",
      "source": [
        "### (2) `ConcatDataset()` 函数"
      ],
      "metadata": {
        "id": "p2-ScB1kPIRu"
      }
    },
    {
      "cell_type": "code",
      "source": [
        "# 方式一\n",
        "dc1 = d1 + d2 + d3\n",
        "\n",
        "# 方式二：与方式一等价\n",
        "dc2 = tud.ConcatDataset([d1, d2, d3])\n",
        "\n",
        "print(dc1.__len__(), dc1.__len__())"
      ],
      "metadata": {
        "colab": {
          "base_uri": "https://localhost:8080/"
        },
        "id": "Tn7VlFt1JRkW",
        "outputId": "828ee345-7987-4f74-ad9c-6054758540aa"
      },
      "execution_count": 15,
      "outputs": [
        {
          "output_type": "stream",
          "name": "stdout",
          "text": [
            "150 150\n"
          ]
        }
      ]
    },
    {
      "cell_type": "markdown",
      "source": [
        "### (3) `Subset()` 函数"
      ],
      "metadata": {
        "id": "Z0CwOfooPH-h"
      }
    },
    {
      "cell_type": "code",
      "source": [
        "d4 = tud.Subset(mydataset, [1,2,3,4])\n",
        "print(d4.__len__())"
      ],
      "metadata": {
        "colab": {
          "base_uri": "https://localhost:8080/"
        },
        "id": "q2cTikK0JTTw",
        "outputId": "7ba75af6-0d7f-4cf9-f668-92ec24b9e5d9"
      },
      "execution_count": 16,
      "outputs": [
        {
          "output_type": "stream",
          "name": "stdout",
          "text": [
            "4\n"
          ]
        }
      ]
    }
  ]
}