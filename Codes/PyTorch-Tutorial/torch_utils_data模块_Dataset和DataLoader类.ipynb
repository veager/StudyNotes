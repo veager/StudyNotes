{
  "nbformat": 4,
  "nbformat_minor": 0,
  "metadata": {
    "colab": {
      "name": "torch.utils.data模块-Dataset和DataLoader类.ipynb",
      "provenance": [],
      "authorship_tag": "ABX9TyOhCtWvVZe0DBW8g8F/7LXA",
      "include_colab_link": true
    },
    "kernelspec": {
      "name": "python3",
      "display_name": "Python 3"
    },
    "language_info": {
      "name": "python"
    }
  },
  "cells": [
    {
      "cell_type": "markdown",
      "metadata": {
        "id": "view-in-github",
        "colab_type": "text"
      },
      "source": [
        "<a href=\"https://colab.research.google.com/github/veager/StudyNotes/blob/new/Codes/PyTorch-Tutorial/torch_utils_data%E6%A8%A1%E5%9D%97_Dataset%E5%92%8CDataLoader%E7%B1%BB.ipynb\" target=\"_parent\"><img src=\"https://colab.research.google.com/assets/colab-badge.svg\" alt=\"Open In Colab\"/></a>"
      ]
    },
    {
      "cell_type": "markdown",
      "source": [
        "`PyTorch` 库中 `torch.utils.data` 模块\n",
        "\n",
        "- `Dataset` 类\n",
        "\n",
        "- `DataLoader` \n",
        "\n",
        "博客链接，[地址](https://www.cnblogs.com/veager/articles/16297540.html)"
      ],
      "metadata": {
        "id": "G0He4tUmN32I"
      }
    },
    {
      "cell_type": "markdown",
      "source": [
        "# 0. 加载 iris 数据"
      ],
      "metadata": {
        "id": "4itGtAEyOTVE"
      }
    },
    {
      "cell_type": "code",
      "execution_count": null,
      "metadata": {
        "colab": {
          "base_uri": "https://localhost:8080/"
        },
        "id": "2doyVYyk7ltb",
        "outputId": "71f36e02-6a43-4181-807e-f76fdc825ddb"
      },
      "outputs": [
        {
          "output_type": "stream",
          "name": "stdout",
          "text": [
            "(150, 4) (150,)\n",
            "[[5.1 3.5 1.4 0.2]\n",
            " [4.9 3.  1.4 0.2]\n",
            " [4.7 3.2 1.3 0.2]\n",
            " [4.6 3.1 1.5 0.2]\n",
            " [5.  3.6 1.4 0.2]]\n",
            "[0 0 0 0 0]\n"
          ]
        }
      ],
      "source": [
        "# 加载 iris 数据\n",
        "from sklearn.datasets import load_iris\n",
        "data = load_iris()\n",
        "X, Y = data.data, data.target\n",
        "\n",
        "print(X.shape, Y.shape)\n",
        "\n",
        "print(X[:5])\n",
        "print(Y[:5])"
      ]
    },
    {
      "cell_type": "code",
      "source": [
        "import torch\n",
        "import torch.utils.data as tud\n",
        "\n",
        "X, Y = torch.tensor(X), torch.tensor(Y, dtype=torch.long)  # 数据转换为  torch.Tensor 类型"
      ],
      "metadata": {
        "id": "JyqYQG3gOk-x"
      },
      "execution_count": null,
      "outputs": []
    },
    {
      "cell_type": "markdown",
      "source": [
        "# 1. `Dataset` 类"
      ],
      "metadata": {
        "id": "MhrwIe9yOY5R"
      }
    },
    {
      "cell_type": "markdown",
      "source": [
        "## 1.1 `TensorData()` 函数"
      ],
      "metadata": {
        "id": "b3DLJnnIOpO4"
      }
    },
    {
      "cell_type": "code",
      "source": [
        "mydataset = tud.TensorDataset(X, Y)\n",
        "\n",
        "print(mydataset)\n",
        "\n",
        "# 获取 Dataset 样本总数，len() 函数也可\n",
        "print(mydataset.__len__(), len(mydataset))  \n",
        "\n",
        "print(mydataset.__getitem__(0))\n",
        "print(mydataset.__getitem__([1, 2]))"
      ],
      "metadata": {
        "colab": {
          "base_uri": "https://localhost:8080/"
        },
        "id": "L4w98eKTG66M",
        "outputId": "c3008113-4f43-4059-d269-0d420d084332"
      },
      "execution_count": null,
      "outputs": [
        {
          "output_type": "stream",
          "name": "stdout",
          "text": [
            "<torch.utils.data.dataset.TensorDataset object at 0x7fd714fef310>\n",
            "150 150\n",
            "(tensor([5.1000, 3.5000, 1.4000, 0.2000], dtype=torch.float64), tensor(0))\n",
            "(tensor([[4.9000, 3.0000, 1.4000, 0.2000],\n",
            "        [4.7000, 3.2000, 1.3000, 0.2000]], dtype=torch.float64), tensor([0, 0]))\n"
          ]
        }
      ]
    },
    {
      "cell_type": "markdown",
      "source": [
        "# 2. `DataLoader` 类"
      ],
      "metadata": {
        "id": "mxQpbCsvO0fA"
      }
    },
    {
      "cell_type": "code",
      "source": [
        "dataloader = tud.DataLoader(mydataset, batch_size=16)\n",
        "for i, (X_, Y_) in enumerate(dataloader):\n",
        "    # print(X_, Y_)\n",
        "    print(X_.size(), Y_.size())"
      ],
      "metadata": {
        "colab": {
          "base_uri": "https://localhost:8080/"
        },
        "id": "Cu0d8lXcJU_i",
        "outputId": "3f15f4fd-5ea6-420f-9926-f91e059d61fd"
      },
      "execution_count": null,
      "outputs": [
        {
          "output_type": "stream",
          "name": "stdout",
          "text": [
            "torch.Size([16, 4]) torch.Size([16])\n",
            "torch.Size([16, 4]) torch.Size([16])\n",
            "torch.Size([16, 4]) torch.Size([16])\n",
            "torch.Size([16, 4]) torch.Size([16])\n",
            "torch.Size([16, 4]) torch.Size([16])\n",
            "torch.Size([16, 4]) torch.Size([16])\n",
            "torch.Size([16, 4]) torch.Size([16])\n",
            "torch.Size([16, 4]) torch.Size([16])\n",
            "torch.Size([16, 4]) torch.Size([16])\n",
            "torch.Size([6, 4]) torch.Size([6])\n"
          ]
        }
      ]
    },
    {
      "cell_type": "markdown",
      "source": [
        "## 2.1 GPU 加速"
      ],
      "metadata": {
        "id": "gAj5AAzsPVlM"
      }
    },
    {
      "cell_type": "code",
      "source": [
        "import torch\n",
        "from torch.utils.data.dataloader import default_collate\n",
        "\n",
        "device = torch.device('cuda' if torch.cuda.is_available() else 'cpu')\n",
        "print(device)\n",
        "\n",
        "dataloader = tud.DataLoader(\n",
        "    mydataset, batch_size=16, shuffle=True,\n",
        "    collate_fn=lambda x: tuple(x_.to(device) for x_ in default_collate(x)))"
      ],
      "metadata": {
        "colab": {
          "base_uri": "https://localhost:8080/"
        },
        "id": "AwDTEhcfPXzm",
        "outputId": "21256640-32fd-4f30-b33d-096a5f807495"
      },
      "execution_count": null,
      "outputs": [
        {
          "output_type": "stream",
          "name": "stdout",
          "text": [
            "cpu\n"
          ]
        }
      ]
    },
    {
      "cell_type": "markdown",
      "source": [
        "# 3. 基本工具"
      ],
      "metadata": {
        "id": "LsKp9cD1O6FQ"
      }
    },
    {
      "cell_type": "markdown",
      "source": [
        "## 3.1 子集提取"
      ],
      "metadata": {
        "id": "HT1qT_M0O9fw"
      }
    },
    {
      "cell_type": "markdown",
      "source": [
        "### (1) `random_split()` 函数"
      ],
      "metadata": {
        "id": "l8oXab8OPAdO"
      }
    },
    {
      "cell_type": "code",
      "source": [
        "N = X.size()[0]\n",
        "lens = [int(N*0.7), int(N*0.2), int(N*0.1)]\n",
        "print(N, lens)\n",
        "\n",
        "d1, d2, d3 = tud.random_split(mydataset, lens, generator=None)\n",
        "print(d1.__len__(), d2.__len__(), d3.__len__())"
      ],
      "metadata": {
        "colab": {
          "base_uri": "https://localhost:8080/"
        },
        "id": "ILS2kHeo9rml",
        "outputId": "69c67977-644c-43cd-a5e8-d57793410132"
      },
      "execution_count": null,
      "outputs": [
        {
          "output_type": "stream",
          "name": "stdout",
          "text": [
            "150 [105, 30, 15]\n",
            "105 30 15\n"
          ]
        }
      ]
    },
    {
      "cell_type": "markdown",
      "source": [
        "### (2) `ConcatDataset()` 函数"
      ],
      "metadata": {
        "id": "p2-ScB1kPIRu"
      }
    },
    {
      "cell_type": "code",
      "source": [
        "# 方式一\n",
        "dc1 = d1 + d2 + d3\n",
        "\n",
        "# 方式二：与方式一等价\n",
        "dc2 = tud.ConcatDataset([d1, d2, d3])\n",
        "\n",
        "print(dc1.__len__(), dc1.__len__())"
      ],
      "metadata": {
        "colab": {
          "base_uri": "https://localhost:8080/"
        },
        "id": "Tn7VlFt1JRkW",
        "outputId": "667e7d5d-f092-4234-b521-c4bd05641cb1"
      },
      "execution_count": null,
      "outputs": [
        {
          "output_type": "stream",
          "name": "stdout",
          "text": [
            "150 150\n"
          ]
        }
      ]
    },
    {
      "cell_type": "markdown",
      "source": [
        "### (3) `Subset()` 函数"
      ],
      "metadata": {
        "id": "Z0CwOfooPH-h"
      }
    },
    {
      "cell_type": "code",
      "source": [
        "d4 = tud.Subset(mydataset, [1,2,3,4])\n",
        "print(d4.__len__())"
      ],
      "metadata": {
        "colab": {
          "base_uri": "https://localhost:8080/"
        },
        "id": "q2cTikK0JTTw",
        "outputId": "5213d3e0-37ca-47a3-b761-ea3128c13224"
      },
      "execution_count": null,
      "outputs": [
        {
          "output_type": "stream",
          "name": "stdout",
          "text": [
            "4\n"
          ]
        }
      ]
    }
  ]
}