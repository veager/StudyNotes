{
  "nbformat": 4,
  "nbformat_minor": 0,
  "metadata": {
    "colab": {
      "name": "PyTorch-数据类型、张量生成、张量操作.ipynb",
      "provenance": [],
      "collapsed_sections": [],
      "authorship_tag": "ABX9TyNaTfov+UdNRb67SacBxszs",
      "include_colab_link": true
    },
    "kernelspec": {
      "name": "python3",
      "display_name": "Python 3"
    },
    "language_info": {
      "name": "python"
    }
  },
  "cells": [
    {
      "cell_type": "markdown",
      "metadata": {
        "id": "view-in-github",
        "colab_type": "text"
      },
      "source": [
        "<a href=\"https://colab.research.google.com/github/veager/StudyNotes/blob/new/Codes/PyTorch-Tutorial/PyTorch-%E6%95%B0%E6%8D%AE%E7%B1%BB%E5%9E%8B%E3%80%81%E5%BC%A0%E9%87%8F%E7%94%9F%E6%88%90%E3%80%81%E5%BC%A0%E9%87%8F%E6%93%8D%E4%BD%9C.ipynb\" target=\"_parent\"><img src=\"https://colab.research.google.com/assets/colab-badge.svg\" alt=\"Open In Colab\"/></a>"
      ]
    },
    {
      "cell_type": "markdown",
      "source": [
        "PyTorch 数据类型、张量生成、张量操作\n",
        "\n",
        "参考资料\n",
        "\n",
        "- 博客：PyTorch 数据类型、张量生成、张量操作，[地址](https://www.cnblogs.com/veager/articles/16295702.html)\n",
        "\n",
        "- Github：Codes/PyTorch-Tutorial/PyTorch-数据类型、张量生成、张量操作.ipynb"
      ],
      "metadata": {
        "id": "MLSwXzyfem7T"
      }
    },
    {
      "cell_type": "code",
      "execution_count": null,
      "metadata": {
        "id": "mhNOz3oYelvg"
      },
      "outputs": [],
      "source": [
        "import torch\n",
        "import torch.nn as nn"
      ]
    },
    {
      "cell_type": "code",
      "source": [
        "tensor = torch.tensor([1., 2.,], requires_grad=True)\n",
        "\n",
        "print(tensor.data)\n",
        "print(tensor.grad)\n",
        "\n",
        "\n",
        "w = nn.Parameter(torch.tensor([1., 2.,]))\n",
        "\n",
        "print(w.data)\n",
        "print(w.grad)"
      ],
      "metadata": {
        "colab": {
          "base_uri": "https://localhost:8080/"
        },
        "id": "w-tW9PJnnrmV",
        "outputId": "7cc05c91-e296-4d3f-b370-73efd221eee0"
      },
      "execution_count": null,
      "outputs": [
        {
          "output_type": "stream",
          "name": "stdout",
          "text": [
            "tensor([1., 2.])\n",
            "None\n",
            "tensor([1., 2.])\n",
            "None\n"
          ]
        }
      ]
    },
    {
      "cell_type": "markdown",
      "source": [
        "`Tensor.data` 属性 和 `Tensor.detach()` 方法"
      ],
      "metadata": {
        "id": "fba6i79tfZdi"
      }
    },
    {
      "cell_type": "code",
      "source": [
        "tensor = torch.tensor([1., 2.,], requires_grad=True)\n",
        "\n",
        "tensor_1 = tensor.detach()\n",
        "tensor_2 = tensor.data\n",
        "print(tensor, tensor_1, tensor_2)\n",
        "\n",
        "tensor_1 = tensor_1 + tensor_1\n",
        "tensor_2 = tensor_2 + tensor_2\n",
        "print(tensor, tensor_1, tensor_2)"
      ],
      "metadata": {
        "colab": {
          "base_uri": "https://localhost:8080/"
        },
        "id": "JLHXGcmKfetG",
        "outputId": "70f6b605-7fdf-4535-a438-42628d13d6d7"
      },
      "execution_count": null,
      "outputs": [
        {
          "output_type": "stream",
          "name": "stdout",
          "text": [
            "tensor([1., 2.], requires_grad=True) tensor([1., 2.]) tensor([1., 2.])\n",
            "tensor([1., 2.], requires_grad=True) tensor([2., 4.]) tensor([2., 4.])\n"
          ]
        }
      ]
    }
  ]
}