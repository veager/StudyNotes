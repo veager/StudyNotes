{
  "nbformat": 4,
  "nbformat_minor": 0,
  "metadata": {
    "colab": {
      "name": "Pytorch-模型训练的流程.ipynb",
      "provenance": [],
      "toc_visible": true,
      "collapsed_sections": [],
      "authorship_tag": "ABX9TyPyt5PD0ZJxbiHLJUrqCBgK",
      "include_colab_link": true
    },
    "kernelspec": {
      "name": "python3",
      "display_name": "Python 3"
    },
    "language_info": {
      "name": "python"
    },
    "accelerator": "GPU"
  },
  "cells": [
    {
      "cell_type": "markdown",
      "metadata": {
        "id": "view-in-github",
        "colab_type": "text"
      },
      "source": [
        "<a href=\"https://colab.research.google.com/github/veager/StudyNotes/blob/new/Codes/PyTorch-Tutorial/Pytorch-%E6%A8%A1%E5%9E%8B%E8%AE%AD%E7%BB%83%E7%9A%84%E6%B5%81%E7%A8%8B.ipynb\" target=\"_parent\"><img src=\"https://colab.research.google.com/assets/colab-badge.svg\" alt=\"Open In Colab\"/></a>"
      ]
    },
    {
      "cell_type": "markdown",
      "source": [
        "PyTorch 模型训练的流程\n",
        "\n",
        "参考资料\n",
        "\n",
        "- 博客：Pytorch 模型训练的流程，[地址](https://www.cnblogs.com/veager/articles/16300846.html)\n",
        "\n",
        "- Github：Codes/PyTorch-Tutorial/Pytorch-模型训练的流程.ipynb"
      ],
      "metadata": {
        "id": "bfpC5f3jtz2i"
      }
    },
    {
      "cell_type": "markdown",
      "source": [
        "# 0 加载 iris 数据集\n",
        "\n"
      ],
      "metadata": {
        "id": "LVa4oigKuXPb"
      }
    },
    {
      "cell_type": "code",
      "source": [
        "import time\n",
        "import numpy as np\n",
        "import pandas as pd\n",
        "import matplotlib.pyplot as plt\n",
        "\n",
        "import torch\n",
        "import torch.nn as nn\n",
        "import torch.nn.functional as F"
      ],
      "metadata": {
        "id": "o3jmOc-lufWd"
      },
      "execution_count": 1,
      "outputs": []
    },
    {
      "cell_type": "code",
      "source": [
        "from sklearn.datasets import load_diabetes\n",
        "from sklearn.preprocessing import MinMaxScaler\n",
        "\n",
        "data = load_diabetes()\n",
        "X = data.data\n",
        "Y = data.target\n",
        "\n",
        "# 将输入输出数据归一化到 [0, 1] 之间\n",
        "scaler_X = MinMaxScaler().fit(X)\n",
        "scaler_Y = MinMaxScaler().fit(np.expand_dims(Y, axis=1))\n",
        "\n",
        "Xs = scaler_X.transform(X)\n",
        "Ys = scaler_Y.transform(np.expand_dims(Y, axis=1))\n",
        "\n",
        "print(Xs.shape, Ys.shape)\n",
        "print(Xs[:5], Ys[:5])\n",
        "print(pd.DataFrame(Xs).describe(), pd.DataFrame(Ys).describe())\n",
        "\n",
        "# 将数据转换为 tensor 类型 \n",
        "Xs_tensor = torch.tensor(Xs, dtype=torch.float)\n",
        "Ys_tensor = torch.tensor(Ys, dtype=torch.float)"
      ],
      "metadata": {
        "colab": {
          "base_uri": "https://localhost:8080/"
        },
        "id": "rF8DHaFruW-n",
        "outputId": "fdda674a-905f-4178-a7fc-e1153db14d1a"
      },
      "execution_count": 2,
      "outputs": [
        {
          "output_type": "stream",
          "name": "stdout",
          "text": [
            "(442, 10) (442, 1)\n",
            "[[0.66666667 1.         0.58264463 0.54929577 0.29411765 0.25697211\n",
            "  0.20779221 0.28208745 0.56221737 0.43939394]\n",
            " [0.48333333 0.         0.14876033 0.35211268 0.42156863 0.30677291\n",
            "  0.62337662 0.14104372 0.22244301 0.16666667]\n",
            " [0.88333333 1.         0.51652893 0.43661972 0.28921569 0.25896414\n",
            "  0.24675325 0.28208745 0.49658437 0.40909091]\n",
            " [0.08333333 0.         0.30165289 0.30985915 0.49509804 0.44721116\n",
            "  0.23376623 0.42313117 0.57293604 0.46969697]\n",
            " [0.51666667 0.         0.20661157 0.54929577 0.46568627 0.41733068\n",
            "  0.38961039 0.28208745 0.36236911 0.33333333]] [[0.39252336]\n",
            " [0.15576324]\n",
            " [0.36137072]\n",
            " [0.56386293]\n",
            " [0.34267913]]\n",
            "                0           1           2           3           4           5  \\\n",
            "count  442.000000  442.000000  442.000000  442.000000  442.000000  442.000000   \n",
            "mean     0.491968    0.468326    0.346107    0.459818    0.451668    0.367725   \n",
            "std      0.218484    0.499561    0.182567    0.194806    0.169647    0.151460   \n",
            "min      0.000000    0.000000    0.000000    0.000000    0.000000    0.000000   \n",
            "25%      0.320833    0.000000    0.214876    0.309859    0.329657    0.271165   \n",
            "50%      0.516667    0.000000    0.318182    0.436620    0.436275    0.355578   \n",
            "75%      0.666667    1.000000    0.465909    0.605634    0.552696    0.462649   \n",
            "max      1.000000    1.000000    1.000000    1.000000    1.000000    1.000000   \n",
            "\n",
            "                6           7           8           9  \n",
            "count  442.000000  442.000000  442.000000  442.000000  \n",
            "mean     0.360889    0.291996    0.485557    0.503942  \n",
            "std      0.167977    0.182010    0.183364    0.174187  \n",
            "min      0.000000    0.000000    0.000000    0.000000  \n",
            "25%      0.237013    0.141044    0.357528    0.382576  \n",
            "50%      0.337662    0.282087    0.478057    0.500000  \n",
            "75%      0.464286    0.423131    0.610446    0.606061  \n",
            "max      1.000000    1.000000    1.000000    1.000000                   0\n",
            "count  442.000000\n",
            "mean     0.396054\n",
            "std      0.240165\n",
            "min      0.000000\n",
            "25%      0.193146\n",
            "50%      0.359813\n",
            "75%      0.580997\n",
            "max      1.000000\n"
          ]
        }
      ]
    },
    {
      "cell_type": "markdown",
      "source": [
        "## 0.1 全局参数设置"
      ],
      "metadata": {
        "id": "j63TZXw8w6oe"
      }
    },
    {
      "cell_type": "code",
      "source": [
        "# 样本信息，划分的数据集\n",
        "N_SAMPLE = Xs_tensor.size()[0]              # 样本总数\n",
        "N_TRAIN = int(N_SAMPLE * 0.7)               # 训练样本数\n",
        "N_VALID = int(N_SAMPLE * 0.2)               # 验证样本数\n",
        "N_TEST = N_SAMPLE - N_TRAIN - N_VALID       # 测试样本数\n",
        "\n",
        "\n",
        "# 训练过程超参数设置\n",
        "BATCH_SIZE = 64\n",
        "N_EPOCH = 100\n",
        "LEARNING_RATE = 0.5\n",
        "\n",
        "\n",
        "# 神经网络模型参数\n",
        "HIDDEN_DIM = 4\n",
        "INPUT_DIM = Xs_tensor.size()[1]     # sizes of input data and output data\n",
        "OUTPUT_DIM = Ys_tensor.size()[1]\n",
        "print(\"NN Structure:\", INPUT_DIM, HIDDEN_DIM, OUTPUT_DIM)\n",
        "\n",
        "\n",
        "# 设置 device，如果 GPU 可用，则使用\n",
        "DEVICE = torch.device('cuda:0' if torch.cuda.is_available() else 'cpu')\n",
        "print(\"device:\", DEVICE)"
      ],
      "metadata": {
        "colab": {
          "base_uri": "https://localhost:8080/"
        },
        "id": "ivNMt7dhxAyC",
        "outputId": "ae81b669-b197-4dcf-b06c-23d926baa163"
      },
      "execution_count": 3,
      "outputs": [
        {
          "output_type": "stream",
          "name": "stdout",
          "text": [
            "NN Structure: 10 4 1\n",
            "device: cuda:0\n"
          ]
        }
      ]
    },
    {
      "cell_type": "markdown",
      "source": [
        "# 1 模型构建"
      ],
      "metadata": {
        "id": "aARfi-gAkHLu"
      }
    },
    {
      "cell_type": "markdown",
      "source": [
        "# 2 创建结构化数据\n",
        "\n",
        "- `TensorDataset()` 类\n",
        "\n",
        "- `Dataset()` 类\n",
        "\n",
        "- `DataLoader` 类\n",
        "\n",
        "- `random_split()` 函数\n",
        "\n"
      ],
      "metadata": {
        "id": "SC6nQXTWv1Jx"
      }
    },
    {
      "cell_type": "code",
      "source": [
        "from torch.utils.data import random_split, TensorDataset, Dataset, DataLoader\n",
        "from torch.utils.data.dataloader import default_collate\n",
        "\n",
        "# DataSet 类\n",
        "ds = TensorDataset(Xs_tensor, Ys_tensor)\n",
        "\n",
        "# split training, validation, testing data\n",
        "ds_train, ds_valid, ds_test = random_split(ds, lengths=[N_TRAIN, N_VALID, N_TEST])\n",
        "print(len(ds_train), len(ds_valid), len(ds_test))\n",
        "\n",
        "\n",
        "# DataLoader of train data, valid data, test data\n",
        "dl_train = DataLoader(ds_train, batch_size = BATCH_SIZE, shuffle = True,\n",
        "    collate_fn = lambda x: tuple(x_.to(DEVICE) for x_ in default_collate(x))    # 将数据加载到指定的 device 上\n",
        "    )\n",
        "\n",
        "dl_valid = DataLoader(ds_valid, batch_size = BATCH_SIZE, # default shuffle = False,\n",
        "    collate_fn = lambda x: tuple(x_.to(DEVICE) for x_ in default_collate(x))\n",
        "    )\n",
        "\n",
        "dl_test = DataLoader(ds_test, batch_size = BATCH_SIZE)"
      ],
      "metadata": {
        "colab": {
          "base_uri": "https://localhost:8080/"
        },
        "id": "dZRWbga8kLOg",
        "outputId": "ddadc5b1-ed01-499d-885e-0556fc66dd0e"
      },
      "execution_count": 4,
      "outputs": [
        {
          "output_type": "stream",
          "name": "stdout",
          "text": [
            "309 88 45\n"
          ]
        }
      ]
    },
    {
      "cell_type": "markdown",
      "source": [
        "# 3. 定义模型 `torch.nn.Module()` 类"
      ],
      "metadata": {
        "id": "F4d5fpFmuMVO"
      }
    },
    {
      "cell_type": "code",
      "source": [
        "# 单隐层 神经网络\n",
        "\n",
        "class BPNNModeler(nn.Module):\n",
        "    def __init__(self, input_dim, hidden_dim, output_dim):\n",
        "\n",
        "        super(BPNNModeler, self).__init__()\n",
        "\n",
        "        # Layer 1\n",
        "        self.layer1_linear = nn.Linear(input_dim, hidden_dim)\n",
        "        self.layer1_sigmoid = nn.Sigmoid()\n",
        "        # Layer 2\n",
        "        self.layer2_linear = nn.Linear(hidden_dim, output_dim)\n",
        "        self.layer2_sigmoid = nn.Sigmoid()\n",
        "        # Output\n",
        "        self.layer2_flattern = nn.Flatten(0, -1)\n",
        "    \n",
        "    # 正向传播\n",
        "    def forward(self, x):\n",
        "        # Layer 1\n",
        "        out_layer1 = self.layer1_linear(x)\n",
        "        out_layer1 = self.layer1_sigmoid(out_layer1)\n",
        "        # Layer 2\n",
        "        out_layer2 = self.layer2_linear(out_layer1)\n",
        "        out_layer2 = self.layer2_sigmoid(out_layer2)\n",
        "        # Output\n",
        "        out = self.layer2_flattern(out_layer2)\n",
        "        return out\n",
        "# =============================================================================="
      ],
      "metadata": {
        "id": "rs6mdsDtlTYj"
      },
      "execution_count": 5,
      "outputs": []
    },
    {
      "cell_type": "markdown",
      "source": [
        "# 4 定义损失函数"
      ],
      "metadata": {
        "id": "biRWNrh6O8eQ"
      }
    },
    {
      "cell_type": "code",
      "source": [
        "# 定义 损失函数 MSE 损失\n",
        "def loss_func(model_out, target, reduction='mean'):\n",
        "    loss = F.mse_loss(model_out, target, reduction=reduction) \n",
        "    return loss"
      ],
      "metadata": {
        "id": "k-2uBAkXyIHw"
      },
      "execution_count": 6,
      "outputs": []
    },
    {
      "cell_type": "markdown",
      "source": [
        "# 5 优化器 `torch.optim` 模块\n",
        "\n",
        "- `torch.optim`\n",
        "\n",
        "- `torch.optim.lr_scheduler`"
      ],
      "metadata": {
        "id": "DDO-UEBpxpNF"
      }
    },
    {
      "cell_type": "code",
      "source": [
        "# 实例化一个神经网络模型\n",
        "model = BPNNModeler(input_dim=INPUT_DIM, hidden_dim=HIDDEN_DIM, output_dim=OUTPUT_DIM)\n",
        "model = model.to(DEVICE)\n",
        "\n",
        "# 定义优化器\n",
        "optimizer = torch.optim.SGD(\n",
        "    [{'params': model.parameters(), \n",
        "      'initial_lr': LEARNING_RATE}],  # 需要向 param group 传入 initial_lr 参数\n",
        "    lr = LEARNING_RATE)  # lr 参数不可忽略\n",
        "\n",
        "# 定义 学习速率调整方式\n",
        "scheduler = torch.optim.lr_scheduler.StepLR(optimizer, step_size=5, gamma=0.5)"
      ],
      "metadata": {
        "id": "SV4pHVioxr_3"
      },
      "execution_count": 7,
      "outputs": []
    },
    {
      "cell_type": "markdown",
      "source": [
        "# 6 训练过程"
      ],
      "metadata": {
        "id": "uKMgxrWUOqyS"
      }
    },
    {
      "cell_type": "code",
      "source": [
        "logs = {'epoch': [],\n",
        "        'train_loss': [],\n",
        "        'valid_loss': [],\n",
        "        'lr': []}\n",
        "\n",
        "for epoch in range(N_EPOCH):\n",
        "    # --------------- 模型训练 ---------------\n",
        "    train_total_loss = 0.\n",
        "\n",
        "    model.train()   # 启动模型评估模\n",
        "\n",
        "    for i, (X_batch, Y_batch) in enumerate(dl_train): \n",
        "\n",
        "        optimizer.zero_grad()   # 学习参数的梯度归零\n",
        "\n",
        "        out = model(X_batch)    # 模型输出\n",
        "        batch_loss = loss_func(out, Y_batch.flatten(), reduction='mean')  # 返回的 loss 为 一个 batch 的平均损失\n",
        "\n",
        "        batch_loss.backward()    # 反向传播，计算梯度\n",
        "        optimizer.step()         # 更新学习参数\n",
        "\n",
        "        train_total_loss += batch_loss.item()  # total lost 为所有 batch 的平均损失的和，而不是整个训练集的平均损失\n",
        "    \n",
        "    logs['epoch'].append(epoch + 1)\n",
        "    logs['train_loss'].append(train_total_loss)\n",
        "\n",
        "    # --------------- 模型验证 ---------------\n",
        "    valid_total_loss = 0. \n",
        "\n",
        "    model.eval()   # 启动模型评估模\n",
        "\n",
        "    with torch.no_grad():  #  取消梯度跟踪\n",
        "        for X_valid, Y_valid in dl_valid:     \n",
        "\n",
        "            out = model(X_valid)    # 模型输出\n",
        "            batch_loss = loss_func(out, Y_valid.flatten())  # 计算 batch loss\n",
        "\n",
        "            valid_total_loss += batch_loss.item()           # 计算 sum of batch loss\n",
        "    \n",
        "    logs['valid_loss'].append(valid_total_loss)\n",
        "\n",
        "    # --------------- 更新 学习速率 -----------\n",
        "    scheduler.step() \n",
        "    logs['lr'].append(optimizer.param_groups[0]['lr'])\n",
        "\n",
        "    # Print Traing information\n",
        "    if (epoch + 1) % 50 == 0:\n",
        "        print('Epoch: {0:>4}, Train Loss: {1:>10.8f}, Valid Loss: {2:>10.8f}, LR: {3:>10.8f}'.format(\n",
        "            epoch + 1, \n",
        "            train_total_loss,\n",
        "            valid_total_loss,\n",
        "            optimizer.param_groups[0]['lr']))"
      ],
      "metadata": {
        "colab": {
          "base_uri": "https://localhost:8080/"
        },
        "id": "VChCOyKqx582",
        "outputId": "ad3bbef8-126c-4205-d887-ab6087832417"
      },
      "execution_count": 8,
      "outputs": [
        {
          "output_type": "stream",
          "name": "stdout",
          "text": [
            "Epoch:   50, Train Loss: 0.29016622, Valid Loss: 0.10878546, LR: 0.00048828\n",
            "Epoch:  100, Train Loss: 0.29318855, Valid Loss: 0.10878547, LR: 0.00000048\n"
          ]
        }
      ]
    },
    {
      "cell_type": "code",
      "source": [
        "fig = plt.figure(figsize=(20, 5))\n",
        "ax1 = fig.add_subplot(131)\n",
        "ax2 = fig.add_subplot(132)\n",
        "ax3 = fig.add_subplot(133)\n",
        "\n",
        "ax1.plot(logs['epoch'], logs['train_loss'])\n",
        "ax2.plot(logs['epoch'], logs['valid_loss'])\n",
        "ax3.semilogy(logs['epoch'], logs['lr'])"
      ],
      "metadata": {
        "colab": {
          "base_uri": "https://localhost:8080/",
          "height": 344
        },
        "id": "VhxWfwDdsrxb",
        "outputId": "561383c4-08f2-472c-8292-588b0bcf0c37"
      },
      "execution_count": 9,
      "outputs": [
        {
          "output_type": "execute_result",
          "data": {
            "text/plain": [
              "[<matplotlib.lines.Line2D at 0x7f8bf50afd90>]"
            ]
          },
          "metadata": {},
          "execution_count": 9
        },
        {
          "output_type": "display_data",
          "data": {
            "text/plain": [
              "<Figure size 1440x360 with 3 Axes>"
            ],
            "image/png": "[encoded data removed]"
          },
          "metadata": {
            "needs_background": "light"
          }
        }
      ]
    },
    {
      "cell_type": "markdown",
      "source": [
        "# 7 模型评估"
      ],
      "metadata": {
        "id": "vYyUnCnsvbQ4"
      }
    },
    {
      "cell_type": "code",
      "source": [
        "def matric(y_pred, y_true):\n",
        "    mse = F.mse_loss(y_pred, y_true)\n",
        "    mae = F.l1_loss(y_pred, y_true)\n",
        "    ape = torch.abs(y_pred - y_true) / torch.max(torch.abs(y_true) + torch.finfo(torch.float32).eps)\n",
        "    mape = torch.mean(ape)\n",
        "    return mse, mae, mape\n",
        "\n",
        "\n",
        "with torch.no_grad():\n",
        "    if not (DEVICE.type == \"cpu\"):\n",
        "        model.cpu()\n",
        "    \n",
        "    train_X, train_Y = ds_train[:N_TRAIN]\n",
        "    pred_train_Y = model(train_X)\n",
        "    mse, mae, mape = matric(pred_train_Y, train_Y.flatten())\n",
        "    print('Train: MSE:{0:>10.4f}; MSE:{1:>10.4f}; MAPE:{2:>10.4f}'.format(\n",
        "        mse.item(), mae.item(), mape.item()))\n",
        "\n",
        "    valid_X, valid_Y = ds_valid[:N_VALID]\n",
        "    pred_valid_Y = model(valid_X)\n",
        "    mse, mae, mape = matric(pred_valid_Y, valid_Y.flatten())\n",
        "    print('Valid: MSE:{0:>10.4f}; MSE:{1:>10.4f}; MAPE:{2:>10.4f}'.format(\n",
        "        mse.item(), mae.item(), mape.item()))\n",
        "\n",
        "    test_X, test_Y = ds_test[:N_TEST]\n",
        "    pred_test_Y = model(test_X)\n",
        "    mse, mae, mape = matric(pred_test_Y, test_Y.flatten())\n",
        "    print(' Test: MSE:{0:>10.4f}; MSE:{1:>10.4f}; MAPE:{2:>10.4f}'.format(\n",
        "        mse.item(), mae.item(), mape.item()))"
      ],
      "metadata": {
        "colab": {
          "base_uri": "https://localhost:8080/"
        },
        "id": "cKhoc4E5vgZX",
        "outputId": "ea3e954a-e734-4c37-f24d-12c448cac40a"
      },
      "execution_count": 10,
      "outputs": [
        {
          "output_type": "stream",
          "name": "stdout",
          "text": [
            "Train: MSE:    0.0582; MSE:    0.2066; MAPE:    0.2066\n",
            "Valid: MSE:    0.0540; MSE:    0.1966; MAPE:    0.2214\n",
            " Test: MSE:    0.0554; MSE:    0.2037; MAPE:    0.2361\n"
          ]
        }
      ]
    }
  ]
}