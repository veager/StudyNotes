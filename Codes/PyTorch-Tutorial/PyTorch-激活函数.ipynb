{
  "nbformat": 4,
  "nbformat_minor": 0,
  "metadata": {
    "colab": {
      "name": "PyTorch-激活函数.ipynb",
      "provenance": [],
      "authorship_tag": "ABX9TyM7cWf1jiVY8FbbG9oUb++N",
      "include_colab_link": true
    },
    "kernelspec": {
      "name": "python3",
      "display_name": "Python 3"
    },
    "language_info": {
      "name": "python"
    }
  },
  "cells": [
    {
      "cell_type": "markdown",
      "metadata": {
        "id": "view-in-github",
        "colab_type": "text"
      },
      "source": [
        "<a href=\"https://colab.research.google.com/github/veager/StudyNotes/blob/new/Codes/PyTorch-Tutorial/PyTorch-%E6%BF%80%E6%B4%BB%E5%87%BD%E6%95%B0.ipynb\" target=\"_parent\"><img src=\"https://colab.research.google.com/assets/colab-badge.svg\" alt=\"Open In Colab\"/></a>"
      ]
    },
    {
      "cell_type": "markdown",
      "source": [
        "PyTorch 激活函数 Activation Functions\n",
        "\n",
        "参考资料：\n",
        "\n",
        "- 博客：PyTorch 激活函数，[地址](标题 https://www.cnblogs.com/veager/articles/16314645.html)\n",
        "\n",
        "- Github: Codes/PyTorch-Tutorial/PyTorch-激活函数.ipynb"
      ],
      "metadata": {
        "id": "eOEBZdeyMtcr"
      }
    },
    {
      "cell_type": "markdown",
      "source": [
        "# 0 概述"
      ],
      "metadata": {
        "id": "mxKE2dNyMhFu"
      }
    },
    {
      "cell_type": "code",
      "source": [
        ""
      ],
      "metadata": {
        "id": "O2dvvcCmMspW"
      },
      "execution_count": null,
      "outputs": []
    },
    {
      "cell_type": "markdown",
      "source": [
        "# 3 激活函数"
      ],
      "metadata": {
        "id": "RtnQgOW-Tvpf"
      }
    },
    {
      "cell_type": "markdown",
      "source": [
        "## 3.1 Sigmoid "
      ],
      "metadata": {
        "id": "FTak-poiTzzZ"
      }
    },
    {
      "cell_type": "code",
      "source": [
        "input = torch.rand((3, 5))\n",
        "\n",
        "output_1 = nn.Sigmoid()(input)\n",
        "\n",
        "# 等价形式：torch.sigmoid() 或 F.sigmoid()\n",
        "output_2 = torch.sigmoid(input)\n",
        "output_3 = F.sigmoid(input) \n",
        "# 使用 F.sigmoid() 会输出 UserWarning 信息\n",
        "# UserWarning: nn.functional.sigmoid is deprecated. Use torch.sigmoid instead.\n",
        "print(torch.sum(torch.abs(output_2 - output_1)), \n",
        "      torch.sum(torch.abs(output_3 - output_1)))"
      ],
      "metadata": {
        "colab": {
          "base_uri": "https://localhost:8080/",
          "height": 249
        },
        "id": "mmOAg7ikUso9",
        "outputId": "592899b5-1aa1-4612-815a-729d77dd2f2b"
      },
      "execution_count": null,
      "outputs": [
        {
          "output_type": "error",
          "ename": "NameError",
          "evalue": "ignored",
          "traceback": [
            "\u001b[0;31m---------------------------------------------------------------------------\u001b[0m",
            "\u001b[0;31mNameError\u001b[0m                                 Traceback (most recent call last)",
            "\u001b[0;32m<ipython-input-1-6240c655442b>\u001b[0m in \u001b[0;36m<module>\u001b[0;34m()\u001b[0m\n\u001b[0;32m----> 1\u001b[0;31m \u001b[0minput\u001b[0m \u001b[0;34m=\u001b[0m \u001b[0mtorch\u001b[0m\u001b[0;34m.\u001b[0m\u001b[0mrand\u001b[0m\u001b[0;34m(\u001b[0m\u001b[0;34m(\u001b[0m\u001b[0;36m3\u001b[0m\u001b[0;34m,\u001b[0m \u001b[0;36m5\u001b[0m\u001b[0;34m)\u001b[0m\u001b[0;34m)\u001b[0m\u001b[0;34m\u001b[0m\u001b[0;34m\u001b[0m\u001b[0m\n\u001b[0m\u001b[1;32m      2\u001b[0m \u001b[0;34m\u001b[0m\u001b[0m\n\u001b[1;32m      3\u001b[0m \u001b[0moutput_1\u001b[0m \u001b[0;34m=\u001b[0m \u001b[0mnn\u001b[0m\u001b[0;34m.\u001b[0m\u001b[0mSigmoid\u001b[0m\u001b[0;34m(\u001b[0m\u001b[0;34m)\u001b[0m\u001b[0;34m(\u001b[0m\u001b[0minput\u001b[0m\u001b[0;34m)\u001b[0m\u001b[0;34m\u001b[0m\u001b[0;34m\u001b[0m\u001b[0m\n\u001b[1;32m      4\u001b[0m \u001b[0;34m\u001b[0m\u001b[0m\n\u001b[1;32m      5\u001b[0m \u001b[0mprint\u001b[0m\u001b[0;34m(\u001b[0m\u001b[0moutput_1\u001b[0m\u001b[0;34m.\u001b[0m\u001b[0msize\u001b[0m\u001b[0;34m(\u001b[0m\u001b[0;34m)\u001b[0m\u001b[0;34m)\u001b[0m\u001b[0;34m\u001b[0m\u001b[0;34m\u001b[0m\u001b[0m\n",
            "\u001b[0;31mNameError\u001b[0m: name 'torch' is not defined"
          ]
        }
      ]
    },
    {
      "cell_type": "markdown",
      "source": [
        "## 3.2 Softmax "
      ],
      "metadata": {
        "id": "5hSXxcpuT0qw"
      }
    },
    {
      "cell_type": "code",
      "source": [
        "input = torch.rand((3, 5))\n",
        "\n",
        "output_1 = nn.Softmax(dim=1)(input)\n",
        "\n",
        "print(output_1.size())\n",
        "print(torch.sum(output_1, dim=1))\n",
        "# Output: tensor([1., 1., 1.])\n",
        "\n",
        "# 等价形式：torch.softmax() 或 F.softmax()\n",
        "output_2 = torch.softmax(input, dim=1)\n",
        "output_3 = F.softmax(input, dim=1)\n",
        "print(torch.sum(torch.abs(output_2 - output_1)), \n",
        "      torch.sum(torch.abs(output_3 - output_1)))"
      ],
      "metadata": {
        "colab": {
          "base_uri": "https://localhost:8080/"
        },
        "id": "URWNGclQTxvY",
        "outputId": "7590322e-5f9a-4bc7-f347-e731533ee228"
      },
      "execution_count": null,
      "outputs": [
        {
          "output_type": "stream",
          "name": "stdout",
          "text": [
            "torch.Size([3, 5])\n",
            "tensor([1.0000, 1.0000, 1.0000])\n",
            "tensor(0.) tensor(0.)\n"
          ]
        }
      ]
    }
  ]
}