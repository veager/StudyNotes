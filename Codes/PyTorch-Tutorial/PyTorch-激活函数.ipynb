{
  "nbformat": 4,
  "nbformat_minor": 0,
  "metadata": {
    "colab": {
      "name": "PyTorch-激活函数.ipynb",
      "provenance": [],
      "collapsed_sections": [],
      "authorship_tag": "ABX9TyPSwqgF4einEoAEJppJWFzR",
      "include_colab_link": true
    },
    "kernelspec": {
      "name": "python3",
      "display_name": "Python 3"
    },
    "language_info": {
      "name": "python"
    }
  },
  "cells": [
    {
      "cell_type": "markdown",
      "metadata": {
        "id": "view-in-github",
        "colab_type": "text"
      },
      "source": [
        "<a href=\"https://colab.research.google.com/github/veager/StudyNotes/blob/new/Codes/PyTorch-Tutorial/PyTorch-%E6%BF%80%E6%B4%BB%E5%87%BD%E6%95%B0.ipynb\" target=\"_parent\"><img src=\"https://colab.research.google.com/assets/colab-badge.svg\" alt=\"Open In Colab\"/></a>"
      ]
    },
    {
      "cell_type": "markdown",
      "source": [
        "PyTorch 激活函数 Activation Functions\n",
        "\n",
        "参考资料：\n",
        "\n",
        "- 博客：PyTorch 激活函数，[地址](标题 https://www.cnblogs.com/veager/articles/16314645.html)\n",
        "\n",
        "- Github: Codes/PyTorch-Tutorial/PyTorch-激活函数.ipynb"
      ],
      "metadata": {
        "id": "eOEBZdeyMtcr"
      }
    },
    {
      "cell_type": "markdown",
      "source": [
        "# 0 概述"
      ],
      "metadata": {
        "id": "mxKE2dNyMhFu"
      }
    },
    {
      "cell_type": "code",
      "source": [
        "import torch\n",
        "import torch.nn as nn\n",
        "import torch.nn.functional as F"
      ],
      "metadata": {
        "id": "O2dvvcCmMspW"
      },
      "execution_count": 1,
      "outputs": []
    },
    {
      "cell_type": "markdown",
      "source": [
        "## 1 Sigmoid"
      ],
      "metadata": {
        "id": "RtnQgOW-Tvpf"
      }
    },
    {
      "cell_type": "code",
      "source": [
        "input = torch.rand((3, 5))\n",
        "\n",
        "# 方式 1：nn.Sigmoid()\n",
        "output_1 = nn.Sigmoid()(input)\n",
        "\n",
        "# 方式 2：torch.sigmoid() 或 F.sigmoid()\n",
        "output_2 = torch.sigmoid(input)\n",
        "output_3 = F.sigmoid(input) \n",
        "# 使用 F.sigmoid() 会输出 UserWarning 信息\n",
        "# UserWarning: nn.functional.sigmoid is deprecated. Use torch.sigmoid instead.\n",
        "print(torch.sum(torch.abs(output_2 - output_1)), \n",
        "      torch.sum(torch.abs(output_3 - output_1)))"
      ],
      "metadata": {
        "colab": {
          "base_uri": "https://localhost:8080/"
        },
        "id": "mmOAg7ikUso9",
        "outputId": "d78eb34e-a659-45b4-dc7a-9aa5962978da"
      },
      "execution_count": 2,
      "outputs": [
        {
          "output_type": "stream",
          "name": "stdout",
          "text": [
            "tensor(0.) tensor(0.)\n"
          ]
        },
        {
          "output_type": "stream",
          "name": "stderr",
          "text": [
            "/usr/local/lib/python3.7/dist-packages/torch/nn/functional.py:1944: UserWarning: nn.functional.sigmoid is deprecated. Use torch.sigmoid instead.\n",
            "  warnings.warn(\"nn.functional.sigmoid is deprecated. Use torch.sigmoid instead.\")\n"
          ]
        }
      ]
    },
    {
      "cell_type": "markdown",
      "source": [
        "## 2 Softmax "
      ],
      "metadata": {
        "id": "5hSXxcpuT0qw"
      }
    },
    {
      "cell_type": "code",
      "source": [
        "input = torch.rand((3, 5))\n",
        "\n",
        "# 方式 1：torch.softmax() 或 F.softmax()\n",
        "output_1 = nn.Softmax(dim=1)(input)\n",
        "print(output_1.size())\n",
        "print(torch.sum(output_1, dim=1))\n",
        "# Output: tensor([1., 1., 1.])\n",
        "\n",
        "# 方式 2：torch.softmax() 或 F.softmax()\n",
        "output_2 = torch.softmax(input, dim=1)\n",
        "output_3 = F.softmax(input, dim=1)\n",
        "print(torch.sum(torch.abs(output_2 - output_1)), \n",
        "      torch.sum(torch.abs(output_3 - output_1)))"
      ],
      "metadata": {
        "colab": {
          "base_uri": "https://localhost:8080/"
        },
        "id": "URWNGclQTxvY",
        "outputId": "c770a551-6353-43e2-f870-0d2f1295678f"
      },
      "execution_count": 3,
      "outputs": [
        {
          "output_type": "stream",
          "name": "stdout",
          "text": [
            "torch.Size([3, 5])\n",
            "tensor([1.0000, 1.0000, 1.0000])\n",
            "tensor(0.) tensor(0.)\n"
          ]
        }
      ]
    }
  ]
}