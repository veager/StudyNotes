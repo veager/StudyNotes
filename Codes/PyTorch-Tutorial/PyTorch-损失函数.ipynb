{
  "nbformat": 4,
  "nbformat_minor": 0,
  "metadata": {
    "colab": {
      "name": "PyTorch-损失函数.ipynb",
      "provenance": [],
      "toc_visible": true,
      "authorship_tag": "ABX9TyOzQYqZ8b5fhxtCPDB6eSfU",
      "include_colab_link": true
    },
    "kernelspec": {
      "name": "python3",
      "display_name": "Python 3"
    },
    "language_info": {
      "name": "python"
    }
  },
  "cells": [
    {
      "cell_type": "markdown",
      "metadata": {
        "id": "view-in-github",
        "colab_type": "text"
      },
      "source": [
        "<a href=\"https://colab.research.google.com/github/veager/StudyNotes/blob/new/Codes/PyTorch-Tutorial/PyTorch-%E6%8D%9F%E5%A4%B1%E5%87%BD%E6%95%B0.ipynb\" target=\"_parent\"><img src=\"https://colab.research.google.com/assets/colab-badge.svg\" alt=\"Open In Colab\"/></a>"
      ]
    },
    {
      "cell_type": "markdown",
      "source": [
        "PyTorch 损失函数 Loss Functions\n",
        "\n",
        "参考资料：\n",
        "\n",
        "- 博客：PyTorch 激活函数，[地址](https://www.cnblogs.com/veager/articles/16314647.html)\n",
        "\n",
        "- Github: Codes/PyTorch-Tutorial/PyTorch-损失函数.ipynb"
      ],
      "metadata": {
        "id": "11I55dqKQ6pV"
      }
    },
    {
      "cell_type": "markdown",
      "source": [
        "# 0 概述"
      ],
      "metadata": {
        "id": "5GFxa5I4RJn-"
      }
    },
    {
      "cell_type": "code",
      "source": [
        "import torch\n",
        "import torch.nn as nn\n",
        "import torch.nn.functional as F"
      ],
      "metadata": {
        "id": "UubkyGBnTWRi"
      },
      "execution_count": 1,
      "outputs": []
    },
    {
      "cell_type": "markdown",
      "source": [
        "## 0.1 主要参数"
      ],
      "metadata": {
        "id": "xhsY7HqRRMYl"
      }
    },
    {
      "cell_type": "markdown",
      "source": [
        "## 0.2 批损失函数与总损失函数"
      ],
      "metadata": {
        "id": "qgLwVWXxS-OA"
      }
    },
    {
      "cell_type": "code",
      "source": [
        "# 定义 损失函数 MSE 损失\n",
        "def loss_func(model_out, target, reduction='mean'):\n",
        "    loss = F.mse_loss(model_out, target, reduction=reduction) \n",
        "    return loss"
      ],
      "metadata": {
        "id": "MHsy-DL6Tftf"
      },
      "execution_count": 2,
      "outputs": []
    },
    {
      "cell_type": "code",
      "source": [
        "from torch.utils.data import TensorDataset\n",
        "from torch.utils.data import DataLoader\n",
        "\n",
        "torch.manual_seed(0)\n",
        "# 随机生成 100 对数据\n",
        "n_sample = 100\n",
        "y_pred = torch.rand(n_sample)\n",
        "y_true = torch.rand(n_sample)\n",
        "print('MSE', F.mse_loss(y_pred, y_true).item())\n",
        "\n",
        "dl = DataLoader(TensorDataset(y_pred, y_true), batch_size=17)"
      ],
      "metadata": {
        "colab": {
          "base_uri": "https://localhost:8080/"
        },
        "id": "TDWJxxc0TvDz",
        "outputId": "fdebad8b-2d3b-4176-c652-b4edb41ffb2b"
      },
      "execution_count": 3,
      "outputs": [
        {
          "output_type": "stream",
          "name": "stdout",
          "text": [
            "MSE 0.14062897861003876\n"
          ]
        }
      ]
    },
    {
      "cell_type": "code",
      "source": [
        "total_loss = 0.\n",
        "for i, (y_pred_batch, y_true_batch) in enumerate(dl):                     \n",
        "    batch_loss = loss_func(y_pred_batch, y_true_batch, reduction='mean')  # 返回的 loss 为 一个 batch 的平均损失\n",
        "    total_loss += batch_loss.item()  # total lost 为所有 batch 的平均损失的和，而不是整个训练集的平均损失\n",
        "print('Sum of batch loss:', total_loss)\n",
        "\n",
        "total_loss = 0.\n",
        "for i, (y_pred_batch, y_true_batch) in enumerate(dl):                       \n",
        "    batch_loss = loss_func(y_pred_batch, y_true_batch, reduction='sum')  # 返回的 loss 为 一个 batch 的总损失\n",
        "    total_loss += batch_loss.item()  # total lost 为所有 batch 的平均损失的和\n",
        "total_loss = total_loss / n_sample\n",
        "print('MSE:', total_loss)"
      ],
      "metadata": {
        "colab": {
          "base_uri": "https://localhost:8080/"
        },
        "id": "kKJ7BkCaRIOF",
        "outputId": "038cd3c9-ea1f-4dc4-d480-ed8e2af6495d"
      },
      "execution_count": 4,
      "outputs": [
        {
          "output_type": "stream",
          "name": "stdout",
          "text": [
            "Sum of batch loss: 0.8410508707165718\n",
            "MSE: 0.1406289792060852\n"
          ]
        }
      ]
    },
    {
      "cell_type": "markdown",
      "source": [
        "# 1 回归损失\n",
        "\n",
        "- `reduction` 参数\n",
        "\n",
        "- `nn.MSELoss()`\n",
        "\n",
        "- `nn.L1Loss()`"
      ],
      "metadata": {
        "id": "0wRHKmacWbJW"
      }
    },
    {
      "cell_type": "code",
      "source": [
        "input = torch.randn(3, 5)\n",
        "target = torch.randn(3, 5)\n",
        "\n",
        "# 损失函数 1：reduction='mean'\n",
        "output_1 = nn.MSELoss()(input, target)\n",
        "print(output_1.size(), output_1)\n",
        "# Output 1：torch.Size([]) tensor(1.1773)\n",
        "\n",
        "# 损失函数 2：reduction='none'\n",
        "output_2 = nn.MSELoss(reduction='none')(input, target)\n",
        "print(output_2.size(), output_2)\n",
        "# Output 2：torch.Size([3, 5]) tensor([[..."
      ],
      "metadata": {
        "colab": {
          "base_uri": "https://localhost:8080/"
        },
        "id": "F74DjBuOW60C",
        "outputId": "36b0ce65-d9ab-4278-aee4-2ace48607137"
      },
      "execution_count": 5,
      "outputs": [
        {
          "output_type": "stream",
          "name": "stdout",
          "text": [
            "torch.Size([]) tensor(2.6747)\n",
            "torch.Size([3, 5]) tensor([[3.2589e-01, 1.9221e+00, 2.8297e+00, 2.4167e+00, 1.6791e+01],\n",
            "        [3.9843e+00, 7.2390e-02, 6.3163e+00, 9.4038e-01, 3.1233e-01],\n",
            "        [3.4942e+00, 2.6550e-01, 6.4022e-02, 6.7654e-03, 3.7880e-01]])\n"
          ]
        }
      ]
    },
    {
      "cell_type": "markdown",
      "source": [
        "# 2 二分类损失\n",
        "\n",
        "- `nn.BCEWithLogitsLoss()` 层 和 `F.binary_cross_entropy_with_logits()` 函数\n",
        "\n",
        "- `nn.BCELoss()` 层 和 `F.binary_cross_entropy()` 函数"
      ],
      "metadata": {
        "id": "s4-ShqwCWnJP"
      }
    },
    {
      "cell_type": "code",
      "source": [
        "torch.manual_seed(0)  # 固定随机数种子\n",
        "input = torch.rand(5)  # 生成5个 [0,1) 之间的随机数\n",
        "target = torch.empty(5).random_(2)\n",
        "print(input, target)\n",
        "\n",
        "# 方式一：使用层类：nn.BCEWithLogitsLoss() \n",
        "loss_layer1 = nn.BCEWithLogitsLoss()\n",
        "output_1 = loss_layer1(input, target)\n",
        "print(output_1)\n",
        "\n",
        "# 方式二：使用层类：nn.BCELoss() + nn.Sigmoid()\n",
        "loss_layer2 = nn.BCELoss()\n",
        "sigmoid_layer = nn.Sigmoid()\n",
        "input_2 = sigmoid_layer(input)\n",
        "output_2 = loss_layer2(input_2, target)\n",
        "print(output_2)\n",
        "\n",
        "# 方式三：使用函数：F.binary_cross_entropy_with_logits() \n",
        "output_3 = F.binary_cross_entropy_with_logits(input, target)\n",
        "print(output_3)\n",
        "\n",
        "# 方式四：使用函数：torch.sigmoid() + F.binary_cross_entropy() \n",
        "input_4 = torch.sigmoid(input)\n",
        "output_4 = F.binary_cross_entropy(input_4, target)\n",
        "print(output_4)"
      ],
      "metadata": {
        "colab": {
          "base_uri": "https://localhost:8080/"
        },
        "id": "mi_cJuFyXisv",
        "outputId": "49742537-84b6-45b7-d9c2-1d3768e47615"
      },
      "execution_count": 6,
      "outputs": [
        {
          "output_type": "stream",
          "name": "stdout",
          "text": [
            "tensor([0.4963, 0.7682, 0.0885, 0.1320, 0.3074]) tensor([1., 1., 1., 1., 1.])\n",
            "tensor(0.5374)\n",
            "tensor(0.5374)\n",
            "tensor(0.5374)\n",
            "tensor(0.5374)\n"
          ]
        }
      ]
    },
    {
      "cell_type": "markdown",
      "source": [
        "# 3 多分类损失\n",
        "\n",
        "- `nn.CrossEntropyLoss()` 层和函数 `F.cross_entropy()` 函数\n",
        "\n",
        "- `nn.NLLLoss()` 层和函数 `F.nll_loss()` 函数"
      ],
      "metadata": {
        "id": "yZ9HLS_QWpuK"
      }
    },
    {
      "cell_type": "code",
      "source": [
        "input = torch.randn(7, 3)\n",
        "target = torch.empty(7, dtype=torch.long).random_(3)\n",
        "print(input)\n",
        "print(target)\n",
        "\n",
        "# 方式 1：nn.CrossEntropyLoss()\n",
        "output_1 = nn.CrossEntropyLoss()(input, target)\n",
        "\n",
        "# 方式 2：nn.LogSoftmax() + nn.NLLLoss() \n",
        "input_2 = nn.LogSoftmax(dim=1)(input)\n",
        "output_2 = nn.NLLLoss()(input_2, target)\n",
        "\n",
        "# 方式 3：cross_entropy()\n",
        "output_3 = F.cross_entropy(input, target)\n",
        "\n",
        "# 方式 4：torch.log_softmax() + F.nll_loss()\n",
        "input_4 = torch.log_softmax(input, dim=1)\n",
        "output_4 = F.nll_loss(input_4, target)"
      ],
      "metadata": {
        "colab": {
          "base_uri": "https://localhost:8080/"
        },
        "id": "byUqQ6HYXevT",
        "outputId": "17ea4dbf-73ce-46f1-ff6a-72152931e3f4"
      },
      "execution_count": 7,
      "outputs": [
        {
          "output_type": "stream",
          "name": "stdout",
          "text": [
            "tensor([[ 0.4913, -0.2041, -0.0885],\n",
            "        [ 0.5239, -0.6659, -0.1116],\n",
            "        [-0.6136,  0.0316, -0.4927],\n",
            "        [ 0.2484,  0.4397,  0.1124],\n",
            "        [ 0.6408, -2.3160, -0.1023],\n",
            "        [ 0.7924, -0.2897,  0.0525],\n",
            "        [ 0.5229,  2.3022, -1.4689]])\n",
            "tensor([1, 2, 1, 1, 2, 2, 1])\n"
          ]
        }
      ]
    }
  ]
}