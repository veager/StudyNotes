{
  "nbformat": 4,
  "nbformat_minor": 0,
  "metadata": {
    "colab": {
      "name": "PyTorch-torch.nn模块-Layer总结.ipynb",
      "provenance": [],
      "toc_visible": true,
      "collapsed_sections": [],
      "authorship_tag": "ABX9TyOpavKFlQWw1vW0Fi7Bsv1e",
      "include_colab_link": true
    },
    "kernelspec": {
      "name": "python3",
      "display_name": "Python 3"
    },
    "language_info": {
      "name": "python"
    }
  },
  "cells": [
    {
      "cell_type": "markdown",
      "metadata": {
        "id": "view-in-github",
        "colab_type": "text"
      },
      "source": [
        "<a href=\"https://colab.research.google.com/github/veager/StudyNotes/blob/new/Codes/PyTorch-Tutorial/PyTorch-torch.nn%E6%A8%A1%E5%9D%97-Layer%E6%80%BB%E7%BB%93.ipynb\" target=\"_parent\"><img src=\"https://colab.research.google.com/assets/colab-badge.svg\" alt=\"Open In Colab\"/></a>"
      ]
    },
    {
      "cell_type": "markdown",
      "source": [
        "PyTorch torch.nn 模块 - Layer 总结\n",
        "\n",
        "参考资料\n",
        "\n",
        "- 博客：PyTorch torch.nn 模块 - Layer 总结, [site](https://www.cnblogs.com/veager/articles/16291933.html)\n",
        "\n",
        "- Github：Codes/PyTorch-Tutorial/PyTorch-torch.nn模块-Layer总结.ipynb\n"
      ],
      "metadata": {
        "id": "8Td_9WPuOv_1"
      }
    },
    {
      "cell_type": "markdown",
      "source": [
        "# 0 概述"
      ],
      "metadata": {
        "id": "-WjMxYlOQkHz"
      }
    },
    {
      "cell_type": "code",
      "execution_count": 1,
      "metadata": {
        "id": "2IS6-0SDDKki"
      },
      "outputs": [],
      "source": [
        "import torch\n",
        "import torch.nn as nn\n",
        "import torch.nn.functional as F"
      ]
    },
    {
      "cell_type": "markdown",
      "source": [
        "# 1 通用层和容器层（Containers）"
      ],
      "metadata": {
        "id": "494dkAghTplJ"
      }
    },
    {
      "cell_type": "markdown",
      "source": [
        "## 1.1 `torch.nn.Parameter()`"
      ],
      "metadata": {
        "id": "SrdNmyvlcQ-X"
      }
    },
    {
      "cell_type": "code",
      "source": [
        "w = nn.Parameter(torch.Tensor([1., 1.,])) \n",
        "print(w.detach())\n",
        "print(w.data)\n",
        "print(w.grad)"
      ],
      "metadata": {
        "colab": {
          "base_uri": "https://localhost:8080/"
        },
        "id": "CGxpIXW_cKrr",
        "outputId": "362b71e4-6dd3-4d16-f1b7-731efa185609"
      },
      "execution_count": 2,
      "outputs": [
        {
          "output_type": "stream",
          "name": "stdout",
          "text": [
            "tensor([1., 1.])\n",
            "tensor([1., 1.])\n",
            "None\n"
          ]
        }
      ]
    },
    {
      "cell_type": "markdown",
      "source": [
        "## 1.2 `torch.nn.Sequential()`"
      ],
      "metadata": {
        "id": "aFLukJZbcZyY"
      }
    },
    {
      "cell_type": "code",
      "source": [
        "# 构建输入层为5，隐含层为3，输出层为1，激活函数为sigmoid的神经网络\n",
        "model = nn.Sequential(\n",
        "    nn.Linear(5, 3), \n",
        "    nn.Sigmoid(),\n",
        "    nn.Linear(3, 1), \n",
        "    nn.Sigmoid(),\n",
        "    nn.Flatten(0, -1)\n",
        ")"
      ],
      "metadata": {
        "id": "HIa5DSwucZU8"
      },
      "execution_count": 3,
      "outputs": []
    },
    {
      "cell_type": "markdown",
      "source": [
        "## 1.3 `torch.nn.Module()`"
      ],
      "metadata": {
        "id": "yUcwQXUPchga"
      }
    },
    {
      "cell_type": "markdown",
      "source": [
        "# 2 线性层"
      ],
      "metadata": {
        "id": "lOMpHA6vTqa0"
      }
    },
    {
      "cell_type": "markdown",
      "source": [
        "## 2.1 `torch.nn.Linear()`"
      ],
      "metadata": {
        "id": "WnehCakZcqKg"
      }
    },
    {
      "cell_type": "code",
      "source": [
        "layer = nn.Linear(20, 30)  # 输入维度为 30，输出维度为 20\n",
        "\n",
        "input = torch.randn(128, 20)  # 输入数据的尺寸 (128, 20)\n",
        "\n",
        "output = layer(input)\n",
        "print(output.size())  # 输出数据的尺寸 (128,30)"
      ],
      "metadata": {
        "colab": {
          "base_uri": "https://localhost:8080/"
        },
        "id": "ftDY96w5b-1r",
        "outputId": "9f75ef9d-6519-4104-a871-1ee401794d5e"
      },
      "execution_count": 4,
      "outputs": [
        {
          "output_type": "stream",
          "name": "stdout",
          "text": [
            "torch.Size([128, 30])\n"
          ]
        }
      ]
    },
    {
      "cell_type": "markdown",
      "source": [
        "# 3 激活函数\n",
        "\n"
      ],
      "metadata": {
        "id": "RtnQgOW-Tvpf"
      }
    },
    {
      "cell_type": "markdown",
      "source": [
        "# 其他\n",
        "\n",
        "- 激活函数\n",
        "\n",
        "- 损失函数"
      ],
      "metadata": {
        "id": "HfWr2DyDDQ6O"
      }
    }
  ]
}