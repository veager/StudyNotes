{
  "nbformat": 4,
  "nbformat_minor": 0,
  "metadata": {
    "colab": {
      "name": "PyTorch-torch.nn模块-Layer总结.ipynb",
      "provenance": [],
      "toc_visible": true,
      "authorship_tag": "ABX9TyNK88xJKYhZzH13K0u18bij",
      "include_colab_link": true
    },
    "kernelspec": {
      "name": "python3",
      "display_name": "Python 3"
    },
    "language_info": {
      "name": "python"
    }
  },
  "cells": [
    {
      "cell_type": "markdown",
      "metadata": {
        "id": "view-in-github",
        "colab_type": "text"
      },
      "source": [
        "<a href=\"https://colab.research.google.com/github/veager/StudyNotes/blob/new/Codes/PyTorch-Tutorial/PyTorch-torch.nn%E6%A8%A1%E5%9D%97-Layer%E6%80%BB%E7%BB%93.ipynb\" target=\"_parent\"><img src=\"https://colab.research.google.com/assets/colab-badge.svg\" alt=\"Open In Colab\"/></a>"
      ]
    },
    {
      "cell_type": "markdown",
      "source": [
        "PyTorch torch.nn 模块 - Layer 总结\n",
        "\n",
        "参考资料\n",
        "\n",
        "- 博客：PyTorch torch.nn 模块 - Layer 总结, [site](https://www.cnblogs.com/veager/articles/16291933.html)\n",
        "\n",
        "- Github：Codes/PyTorch-Tutorial/PyTorch-torch.nn模块-Layer总结.ipynb\n"
      ],
      "metadata": {
        "id": "8Td_9WPuOv_1"
      }
    },
    {
      "cell_type": "markdown",
      "source": [
        "# 0 概述"
      ],
      "metadata": {
        "id": "-WjMxYlOQkHz"
      }
    },
    {
      "cell_type": "code",
      "execution_count": 58,
      "metadata": {
        "id": "2IS6-0SDDKki"
      },
      "outputs": [],
      "source": [
        "import torch\n",
        "import torch.nn as nn\n",
        "import torch.nn.functional as F"
      ]
    },
    {
      "cell_type": "markdown",
      "source": [
        "# 1 通用层和容器层（Containers）"
      ],
      "metadata": {
        "id": "494dkAghTplJ"
      }
    },
    {
      "cell_type": "markdown",
      "source": [
        "# 2 线性层"
      ],
      "metadata": {
        "id": "lOMpHA6vTqa0"
      }
    },
    {
      "cell_type": "markdown",
      "source": [
        "# 3 激活函数"
      ],
      "metadata": {
        "id": "RtnQgOW-Tvpf"
      }
    },
    {
      "cell_type": "markdown",
      "source": [
        "## 3.1 Sigmoid "
      ],
      "metadata": {
        "id": "FTak-poiTzzZ"
      }
    },
    {
      "cell_type": "code",
      "source": [
        "input = torch.rand((3, 5))\n",
        "\n",
        "output_1 = nn.Sigmoid()(input)\n",
        "\n",
        "print(output_1.size())\n",
        "print(torch.sum(output_1, dim=1))\n",
        "# Output: tensor([1., 1., 1.])\n",
        "\n",
        "# 等价形式：torch.sigmoid() 或 F.sigmoid()\n",
        "output_2 = torch.sigmoid(input)\n",
        "output_3 = F.sigmoid(input) \n",
        "# 使用 F.sigmoid() 会输出 UserWarning 信息\n",
        "# UserWarning: nn.functional.sigmoid is deprecated. Use torch.sigmoid instead.\n",
        "print(torch.sum(torch.abs(output_2 - output_1)), \n",
        "      torch.sum(torch.abs(output_3 - output_1)))"
      ],
      "metadata": {
        "colab": {
          "base_uri": "https://localhost:8080/"
        },
        "id": "mmOAg7ikUso9",
        "outputId": "69d9d2cc-594a-41da-ff64-6dd00c8593a1"
      },
      "execution_count": 59,
      "outputs": [
        {
          "output_type": "stream",
          "name": "stdout",
          "text": [
            "torch.Size([3, 5])\n",
            "tensor([3.1894, 3.1061, 3.0443])\n",
            "tensor(0.) tensor(0.)\n"
          ]
        },
        {
          "output_type": "stream",
          "name": "stderr",
          "text": [
            "/usr/local/lib/python3.7/dist-packages/torch/nn/functional.py:1944: UserWarning: nn.functional.sigmoid is deprecated. Use torch.sigmoid instead.\n",
            "  warnings.warn(\"nn.functional.sigmoid is deprecated. Use torch.sigmoid instead.\")\n"
          ]
        }
      ]
    },
    {
      "cell_type": "markdown",
      "source": [
        "## 3.2 Softmax "
      ],
      "metadata": {
        "id": "5hSXxcpuT0qw"
      }
    },
    {
      "cell_type": "code",
      "source": [
        "input = torch.rand((3, 5))\n",
        "\n",
        "output_1 = nn.Softmax(dim=1)(input)\n",
        "\n",
        "print(output_1.size())\n",
        "print(torch.sum(output_1, dim=1))\n",
        "# Output: tensor([1., 1., 1.])\n",
        "\n",
        "# 等价形式：torch.softmax() 或 F.softmax()\n",
        "output_2 = torch.softmax(input, dim=1)\n",
        "output_3 = F.softmax(input, dim=1)\n",
        "print(torch.sum(torch.abs(output_2 - output_1)), \n",
        "      torch.sum(torch.abs(output_3 - output_1)))"
      ],
      "metadata": {
        "colab": {
          "base_uri": "https://localhost:8080/"
        },
        "id": "URWNGclQTxvY",
        "outputId": "b27622c1-60a3-4fef-82ef-f1fc41a40e9e"
      },
      "execution_count": 60,
      "outputs": [
        {
          "output_type": "stream",
          "name": "stdout",
          "text": [
            "torch.Size([3, 5])\n",
            "tensor([1., 1., 1.])\n",
            "tensor(0.) tensor(0.)\n"
          ]
        }
      ]
    },
    {
      "cell_type": "markdown",
      "source": [
        "# 4 损失函数"
      ],
      "metadata": {
        "id": "HfWr2DyDDQ6O"
      }
    },
    {
      "cell_type": "markdown",
      "source": [
        "## 4.1 回归损失\n",
        "\n",
        "- `reduction` 参数\n",
        "\n",
        "- `nn.MSELoss` 类 和 `F.mse_loss()` 函数\n",
        "\n",
        "- `nn.L1Loss` 类 和 `F.l1_loss()` 函数"
      ],
      "metadata": {
        "id": "TqUB7MiIfKxg"
      }
    },
    {
      "cell_type": "code",
      "source": [
        "input = torch.randn(3, 5)\n",
        "target = torch.randn(3, 5)\n",
        "\n",
        "# 损失函数 1：reduction='mean'\n",
        "output_1 = nn.MSELoss()(input, target)\n",
        "\n",
        "# 损失函数 2：reduction='none'\n",
        "output_2 = nn.MSELoss(reduction='none')(input, target)\n",
        "\n",
        "# 输出\n",
        "print(output_1.size(), output_1)\n",
        "print(output_2.size(), output_2)\n",
        "# Output 1：torch.Size([]) tensor(1.1773)\n",
        "# Output 2：torch.Size([3, 5]) tensor([[..."
      ],
      "metadata": {
        "colab": {
          "base_uri": "https://localhost:8080/"
        },
        "id": "KiMocLvifOdf",
        "outputId": "8535f2f7-bde4-4cf9-f364-ab80d057929f"
      },
      "execution_count": 61,
      "outputs": [
        {
          "output_type": "stream",
          "name": "stdout",
          "text": [
            "torch.Size([]) tensor(2.8110)\n",
            "torch.Size([3, 5]) tensor([[1.2228e+01, 1.7304e+00, 1.0846e-03, 6.3876e-03, 2.3148e+00],\n",
            "        [1.0003e+00, 3.7505e-02, 1.9426e+00, 4.0366e+00, 8.6523e+00],\n",
            "        [3.6143e-01, 4.1810e-04, 1.3871e+00, 5.0096e+00, 3.4567e+00]])\n"
          ]
        }
      ]
    },
    {
      "cell_type": "markdown",
      "source": [
        "## 4.2 二分类损失\n",
        "\n",
        "- `nn.BCEWithLogitsLoss()` 层和 `F.binary_cross_entropy_with_logits()` 函数\n",
        "\n",
        "- `nn.BCELoss()` 层 `F.binary_cross_entropy()` 函数"
      ],
      "metadata": {
        "id": "wxHOirrNDUmA"
      }
    },
    {
      "cell_type": "code",
      "source": [
        "torch.manual_seed(42)\n",
        "\n",
        "input = torch.rand(5)   \n",
        "target = torch.empty(5).random_(2)\n",
        "print(input, target)\n",
        "\n",
        "# 方式一：nn.BCEWithLogitsLoss()\n",
        "output_1 = nn.BCEWithLogitsLoss()(input, target)\n",
        "print(output_1)\n",
        "\n",
        "# 方式二：nn.Sigmoid() + nn.BCELoss()\n",
        "input_2 = nn.Sigmoid()(input)\n",
        "output_2 = nn.BCELoss()(input_2, target)\n",
        "print(output_2)\n",
        "\n",
        "# 方式三：F.binary_cross_entropy_with_logits() \n",
        "output_3 = F.binary_cross_entropy_with_logits(input, target)\n",
        "print(output_3)\n",
        "\n",
        "# 方式四：torch.sigmoid() + F.binary_cross_entropy()\n",
        "input_4 = torch.sigmoid(input)\n",
        "output_4 = F.binary_cross_entropy(input_4, target)\n",
        "print(output_4)"
      ],
      "metadata": {
        "colab": {
          "base_uri": "https://localhost:8080/"
        },
        "id": "wCY5ov4uDYMV",
        "outputId": "421ee18e-8e52-4679-d84d-a08d26a92d97"
      },
      "execution_count": 62,
      "outputs": [
        {
          "output_type": "stream",
          "name": "stdout",
          "text": [
            "tensor([0.8823, 0.9150, 0.3829, 0.9593, 0.3904]) tensor([1., 0., 0., 0., 1.])\n",
            "tensor(0.8603)\n",
            "tensor(0.8603)\n",
            "tensor(0.8603)\n",
            "tensor(0.8603)\n"
          ]
        }
      ]
    },
    {
      "cell_type": "markdown",
      "source": [
        "## 4.3 多分类损失函数\n",
        "\n",
        "- `nn.CrossEntropyLoss()` 层和函数 `F.cross_entropy()` 函数\n",
        "\n",
        "- `nn.NLLLoss()` 层和函数 `F.nll_loss()` 函数\n",
        "\n"
      ],
      "metadata": {
        "id": "1Zpoc9swh_5d"
      }
    },
    {
      "cell_type": "code",
      "source": [
        "torch.manual_seed(0)\n",
        "\n",
        "input = torch.randn(7, 3)\n",
        "target = torch.empty(7, dtype=torch.long).random_(3)\n",
        "print(input)\n",
        "print(target)\n",
        "\n",
        "# 方式 1：nn.CrossEntropyLoss()\n",
        "output_1 = nn.CrossEntropyLoss()(input, target)\n",
        "print(output_1)\n",
        "# Output tensor(1.4895)\n",
        "\n",
        "# 方式 2：nn.LogSoftmax() + nn.NLLLoss() \n",
        "input_2 = nn.LogSoftmax(dim=1)(input)\n",
        "output_2 = nn.NLLLoss()(input_2, target)\n",
        "print(output_2)\n",
        "# Output tensor(1.4895)\n",
        "\n",
        "# 方式 3：cross_entropy()\n",
        "output_3 = F.cross_entropy(input, target)\n",
        "print(output_3)\n",
        "\n",
        "# 方式 4：torch.log_softmax() + F.nll_loss()\n",
        "input_4 = torch.log_softmax(input, dim=1)\n",
        "output_4 = F.nll_loss(input_4, target)\n",
        "print(output_4)"
      ],
      "metadata": {
        "colab": {
          "base_uri": "https://localhost:8080/"
        },
        "id": "ljIenYtkiESQ",
        "outputId": "6df36992-1ef5-494e-a0e0-b1a53bf55a0e"
      },
      "execution_count": 63,
      "outputs": [
        {
          "output_type": "stream",
          "name": "stdout",
          "text": [
            "tensor([[-1.1258, -1.1524, -0.2506],\n",
            "        [-0.4339,  0.8487, -1.5551],\n",
            "        [-0.3414,  1.8530,  0.4681],\n",
            "        [-0.1577,  1.4437,  0.2660],\n",
            "        [ 0.1665,  1.5863,  0.9463],\n",
            "        [-0.8437,  0.9318,  1.2590],\n",
            "        [ 2.0050,  0.0537,  0.6181]])\n",
            "tensor([2, 2, 1, 2, 0, 1, 1])\n",
            "tensor(1.4895)\n",
            "tensor(1.4895)\n",
            "tensor(1.4895)\n",
            "tensor(1.4895)\n"
          ]
        }
      ]
    }
  ]
}