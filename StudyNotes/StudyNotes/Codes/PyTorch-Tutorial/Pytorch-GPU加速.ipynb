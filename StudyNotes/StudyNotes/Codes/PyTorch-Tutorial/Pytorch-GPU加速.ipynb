{
  "nbformat": 4,
  "nbformat_minor": 0,
  "metadata": {
    "colab": {
      "name": "Pytorch-GPU加速.ipynb",
      "provenance": [],
      "collapsed_sections": [],
      "toc_visible": true,
      "authorship_tag": "ABX9TyMf5IqZlweMb5OTcKI7Uf0C",
      "include_colab_link": true
    },
    "kernelspec": {
      "name": "python3",
      "display_name": "Python 3"
    },
    "language_info": {
      "name": "python"
    },
    "accelerator": "GPU"
  },
  "cells": [
    {
      "cell_type": "markdown",
      "metadata": {
        "id": "view-in-github",
        "colab_type": "text"
      },
      "source": [
        "<a href=\"https://colab.research.google.com/github/veager/StudyNotes/blob/new/StudyNotes/StudyNotes/Codes/PyTorch-Tutorial/Pytorch-GPU%E5%8A%A0%E9%80%9F.ipynb\" target=\"_parent\"><img src=\"https://colab.research.google.com/assets/colab-badge.svg\" alt=\"Open In Colab\"/></a>"
      ]
    },
    {
      "cell_type": "markdown",
      "source": [
        "Pytorch GPU 加速\n",
        "\n",
        "参考资料\n",
        "\n",
        "- 博客：Pytorch GPU 加速, [site](https://www.cnblogs.com/veager/articles/16298631.html)\n",
        "\n",
        "- Github："
      ],
      "metadata": {
        "id": "3K72XKFwrre7"
      }
    },
    {
      "cell_type": "markdown",
      "source": [
        "# 1 GPU 加速"
      ],
      "metadata": {
        "id": "g7uEUtbm4pjL"
      }
    },
    {
      "cell_type": "code",
      "source": [
        "# 查看 GPU 信息\n",
        "!nvidia-smi"
      ],
      "metadata": {
        "colab": {
          "base_uri": "https://localhost:8080/"
        },
        "id": "7HmAZwen4xmI",
        "outputId": "33715ca6-dbbd-404c-f9cb-c9e1c7d8cabc"
      },
      "execution_count": 26,
      "outputs": [
        {
          "output_type": "stream",
          "name": "stdout",
          "text": [
            "Thu May 26 04:47:28 2022       \n",
            "+-----------------------------------------------------------------------------+\n",
            "| NVIDIA-SMI 460.32.03    Driver Version: 460.32.03    CUDA Version: 11.2     |\n",
            "|-------------------------------+----------------------+----------------------+\n",
            "| GPU  Name        Persistence-M| Bus-Id        Disp.A | Volatile Uncorr. ECC |\n",
            "| Fan  Temp  Perf  Pwr:Usage/Cap|         Memory-Usage | GPU-Util  Compute M. |\n",
            "|                               |                      |               MIG M. |\n",
            "|===============================+======================+======================|\n",
            "|   0  Tesla T4            Off  | 00000000:00:04.0 Off |                    0 |\n",
            "| N/A   63C    P0    29W /  70W |   1250MiB / 15109MiB |      0%      Default |\n",
            "|                               |                      |                  N/A |\n",
            "+-------------------------------+----------------------+----------------------+\n",
            "                                                                               \n",
            "+-----------------------------------------------------------------------------+\n",
            "| Processes:                                                                  |\n",
            "|  GPU   GI   CI        PID   Type   Process name                  GPU Memory |\n",
            "|        ID   ID                                                   Usage      |\n",
            "|=============================================================================|\n",
            "+-----------------------------------------------------------------------------+\n"
          ]
        }
      ]
    },
    {
      "cell_type": "markdown",
      "source": [
        "## 1.1 常用的 device 相关函数"
      ],
      "metadata": {
        "id": "zPOL1fIj4nm7"
      }
    },
    {
      "cell_type": "code",
      "source": [
        "import torch\n",
        "# 如果GPU可用，则使用GPU；如果不可用，使用CPU\n",
        "device = torch.device('cuda' if torch.cuda.is_available() else 'cpu')\n",
        "print(device)"
      ],
      "metadata": {
        "colab": {
          "base_uri": "https://localhost:8080/"
        },
        "id": "ErhNZoD55OmH",
        "outputId": "ab38a807-06ff-4f3c-a5c6-1c3dd1a9bbbf"
      },
      "execution_count": 27,
      "outputs": [
        {
          "output_type": "stream",
          "name": "stdout",
          "text": [
            "cuda\n"
          ]
        }
      ]
    },
    {
      "cell_type": "code",
      "execution_count": 28,
      "metadata": {
        "colab": {
          "base_uri": "https://localhost:8080/"
        },
        "id": "AknsOlT9P2c7",
        "outputId": "cddde5f4-927d-4457-ccce-f64803ea3f09"
      },
      "outputs": [
        {
          "output_type": "stream",
          "name": "stdout",
          "text": [
            "True\n",
            "cpu\n",
            "cuda:0\n",
            "cuda\n",
            "cuda:0\n",
            "cuda cuda\n",
            "1\n",
            "0\n",
            "<torch.cuda.device object at 0x7fa92a64b390>\n",
            "Tesla T4\n"
          ]
        }
      ],
      "source": [
        "use_gpu = torch.cuda.is_available()  # GPU 是否可用\n",
        "print(torch.cuda.is_available())\n",
        "\n",
        "print(torch.device('cpu'))      # 获取 CPU 设备\n",
        "print(torch.device(0))          # 方法 1：获取 GPU 设备\n",
        "print(torch.device('cuda'))     # 方法 2：获取 GPU 设备\n",
        "print(torch.device('cuda:0'))   # 方法 3：获取 GPU 设备\n",
        "\n",
        "gpu_device = torch.device('cuda')    \n",
        "print(gpu_device, gpu_device.type)  # 参考 GPU 设备类型\n",
        "    \n",
        "if use_gpu:\n",
        "    print(torch.cuda.device_count())\n",
        "    print(torch.cuda.current_device())\n",
        "    print(torch.cuda.device(0))\n",
        "    print(torch.cuda.get_device_name(0))"
      ]
    },
    {
      "cell_type": "markdown",
      "source": [
        "## 1.2 `Tensor` 数据与 device 相关的属性和方法"
      ],
      "metadata": {
        "id": "Z0cwjXxgCDTz"
      }
    },
    {
      "cell_type": "code",
      "source": [
        "import torch\n",
        "\n",
        "# 定义设备\n",
        "gpu_device = torch.device(\"cuda\")\n",
        "\n",
        "\n",
        "# 方法 1：推荐使用，直接在 GPU 上创建\n",
        "tensor_X1 = torch.tensor([1, 2], device = 0)\n",
        "tensor_X2 = torch.tensor([1, 2], device = gpu_device)\n",
        "tensor_X3 = torch.tensor([1, 2], device = \"cuda:0\")\n",
        "print(tensor_X1.device, tensor_X2.device, tensor_X3.device)    \n",
        "# Output:  cuda:0  cuda:0  cuda:0 \n",
        "\n",
        "\n",
        "# 方法 2：先将 tensor 创建在CPU上，再复制到GPU上\n",
        "tensor_X1 = torch.tensor([1, 2])       # 在 CPU 上创建 tensor\n",
        "tensor_X2 = tensor_X1.to(device = gpu_device)\n",
        "print(tensor_X1.device, tensor_X2.device)\n",
        "# Output:  cpu  cuda:0\n",
        "tensor_X3 = tensor_X1.cuda()           # 默认的 device \n",
        "tensor_X4 = tensor_X1.cuda(0)          # 其他的参数方式，可以得到相同的结果\n",
        "tensor_X5 = tensor_X1.cuda(gpu_device) \n",
        "tensor_X6 = tensor_X1.cuda(\"cuda:0\")\n",
        "print(tensor_X3.device, tensor_X4.device, tensor_X5.device, tensor_X6.device)\n",
        "# Output:  cuda:0  cuda:0  cuda:0  cuda:0"
      ],
      "metadata": {
        "colab": {
          "base_uri": "https://localhost:8080/"
        },
        "id": "mO51U3qdXTe4",
        "outputId": "e6c68a79-59db-4ef0-b32f-650dd641840e"
      },
      "execution_count": 29,
      "outputs": [
        {
          "output_type": "stream",
          "name": "stdout",
          "text": [
            "cuda:0 cuda:0 cuda:0\n",
            "cpu cuda:0\n",
            "cuda:0 cuda:0 cuda:0 cuda:0\n"
          ]
        }
      ]
    },
    {
      "cell_type": "markdown",
      "source": [
        "将 GPU 上的 tensor 复制到 CPU 上"
      ],
      "metadata": {
        "id": "Xh_rwAJvCJhj"
      }
    },
    {
      "cell_type": "code",
      "source": [
        "cpu_device = torch.device(\"cpu\")\n",
        "\n",
        "# 在 GPU 设备上创建 tensor\n",
        "tensor_X1 = torch.tensor([1, 2], device=torch.device(\"cuda\")) \n",
        "\n",
        "# 将 GPU 上的 tensor 数据复制到 CPU 上\n",
        "tensor_X2 = tensor_X1.to(cpu_device)\n",
        "tensor_X3 = tensor_X1.to(\"cpu\")\n",
        "tensor_X4 = tensor_X1.cpu()\n",
        "\n",
        "print(tensor_X1.device, tensor_X2.device, tensor_X3.device, tensor_X4.device)    "
      ],
      "metadata": {
        "colab": {
          "base_uri": "https://localhost:8080/"
        },
        "id": "94_ACnQOfTEK",
        "outputId": "b2f2c748-293a-46e8-8e72-b3383cf9f1a2"
      },
      "execution_count": 30,
      "outputs": [
        {
          "output_type": "stream",
          "name": "stdout",
          "text": [
            "cuda:0 cpu cpu cpu\n"
          ]
        }
      ]
    },
    {
      "cell_type": "markdown",
      "source": [
        "## 1.3 使用 GPU 训练"
      ],
      "metadata": {
        "id": "4Qj0pzH6rlwE"
      }
    },
    {
      "cell_type": "markdown",
      "source": [
        "## 1.4 使用 `Dataset()` 类和 `DataLoader()` 类加载数据"
      ],
      "metadata": {
        "id": "gZzC9kzcrRDP"
      }
    },
    {
      "cell_type": "code",
      "source": [
        "from torch.utils.data import TensorDataset, DataLoader\n",
        "from torch.utils.data.dataloader import default_collate\n",
        "\n",
        "mydataset = TensorDataset(torch.ones((10,2)))\n",
        "\n",
        "dataloader = DataLoader(mydataset,\n",
        "    collate_fn = lambda x: tuple(x_.to(gpu_device) for x_ in default_collate(x)))  # 将加载的数据置于 GPU 上\n",
        "\n",
        "for i, (x, ) in enumerate(dataloader):\n",
        "    print(i, x, x.device)"
      ],
      "metadata": {
        "colab": {
          "base_uri": "https://localhost:8080/"
        },
        "id": "H8To1sTArOtk",
        "outputId": "8365add1-6083-4369-f663-40b06b6dadc3"
      },
      "execution_count": 31,
      "outputs": [
        {
          "output_type": "stream",
          "name": "stdout",
          "text": [
            "0 tensor([[1., 1.]], device='cuda:0') cuda:0\n",
            "1 tensor([[1., 1.]], device='cuda:0') cuda:0\n",
            "2 tensor([[1., 1.]], device='cuda:0') cuda:0\n",
            "3 tensor([[1., 1.]], device='cuda:0') cuda:0\n",
            "4 tensor([[1., 1.]], device='cuda:0') cuda:0\n",
            "5 tensor([[1., 1.]], device='cuda:0') cuda:0\n",
            "6 tensor([[1., 1.]], device='cuda:0') cuda:0\n",
            "7 tensor([[1., 1.]], device='cuda:0') cuda:0\n",
            "8 tensor([[1., 1.]], device='cuda:0') cuda:0\n",
            "9 tensor([[1., 1.]], device='cuda:0') cuda:0\n"
          ]
        }
      ]
    },
    {
      "cell_type": "markdown",
      "source": [
        "# 2 Colab TPU 加速"
      ],
      "metadata": {
        "id": "HqU5H8IJrstQ"
      }
    }
  ]
}